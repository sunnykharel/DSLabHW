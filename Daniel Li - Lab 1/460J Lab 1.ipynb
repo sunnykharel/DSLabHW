{
 "cells": [
  {
   "cell_type": "markdown",
   "metadata": {},
   "source": [
    "## Programming Questions\n",
    "\n",
    "### Q1. \n",
    "Create 1000 samples from a Gaussian distribution with mean -10 and standard deviation 5.\n",
    "Create another 1000 samples from another independent Gaussian with mean 10 and standard\n",
    "deviation 5.\n",
    "\n",
    "a) Take the sum of these 2 Gaussians by adding the two sets of 1000 points, point by point,\n",
    "and plot the histogram of the resulting 1000 points. What do you observe?\n",
    "\n",
    "b) Estimate the mean and the variance of the sum."
   ]
  },
  {
   "cell_type": "code",
   "execution_count": 1,
   "metadata": {},
   "outputs": [],
   "source": [
    "import numpy as np\n",
    "import matplotlib as mpl\n",
    "import matplotlib.pyplot as plt"
   ]
  },
  {
   "cell_type": "code",
   "execution_count": 2,
   "metadata": {},
   "outputs": [],
   "source": [
    "# Q1a\n",
    "mu_0, sigma_0 = -10, 5\n",
    "x_0 = np.random.normal(mu_0, sigma_0, 1000)\n",
    "\n",
    "mu_1, sigma_1 = 10, 5\n",
    "x_1 = np.random.normal(mu_1, sigma_1, 1000)\n",
    "\n",
    "x_add = np.add(x_0, x_1)"
   ]
  },
  {
   "cell_type": "code",
   "execution_count": 3,
   "metadata": {},
   "outputs": [],
   "source": [
    "# Q1b\n",
    "\n",
    "# Mean of the sum\n",
    "add = 0\n",
    "for i in x_add:\n",
    "    add += i\n",
    "x_mean = add/len(x_add)\n",
    "\n",
    "# Var of the sum\n",
    "add = 0\n",
    "for i in x_add:\n",
    "    add += (i-x_mean)**2\n",
    "x_var = add/len(x_add)"
   ]
  },
  {
   "cell_type": "code",
   "execution_count": 4,
   "metadata": {},
   "outputs": [
    {
     "name": "stdout",
     "output_type": "stream",
     "text": [
      "Mean of the sum:  0.37901723481787225 \n",
      " Variance of the sum:  52.99105291659517\n"
     ]
    },
    {
     "data": {
      "image/png": "[encoded data removed]",
      "text/plain": [
       "<Figure size 432x288 with 1 Axes>"
      ]
     },
     "metadata": {
      "needs_background": "light"
     },
     "output_type": "display_data"
    }
   ],
   "source": [
    "print(\"Mean of the sum: \", x_mean, \"\\n Variance of the sum: \", x_var)\n",
    "plt.hist(x_add, bins = 20)\n",
    "plt.xlabel('Value')\n",
    "plt.ylabel('Amount')\n",
    "plt.show()"
   ]
  },
  {
   "cell_type": "markdown",
   "metadata": {},
   "source": [
    "### Q2.\n",
    "Let Xi be an iid Bernoulli random variable with value {-1,1}. Look at the random variable $Z_n = \\frac{1}{\\sqrt n} \\sum_{}^{}X_i$. By taking 1000 draws from Zn, plot its histogram. Check that for small n (say, 5-10) Zn does not look that much like a Gaussian, but when n is bigger (already by the time n = 30 or 50) it looks much more like a Gaussian.Check also for much bigger n: n = 250, to see that at this point, one can really see the bell curve."
   ]
  },
  {
   "cell_type": "code",
   "execution_count": 5,
   "metadata": {},
   "outputs": [],
   "source": [
    "# Q2\n",
    "from scipy import stats\n",
    "import math"
   ]
  },
  {
   "cell_type": "code",
   "execution_count": 11,
   "metadata": {},
   "outputs": [],
   "source": [
    "def getZnArray(n):\n",
    "    # n is the number of bernoulli variables we make\n",
    "    ZnArray = []\n",
    "    for j in range(1000):\n",
    "        add = 0\n",
    "        bernRVs = stats.bernoulli.rvs(.5, size = n)\n",
    "        for i in bernRVs:\n",
    "            if i != 1:\n",
    "                i = -1\n",
    "            add += i\n",
    "        Zn = add/math.sqrt(n)\n",
    "        ZnArray.append(Zn)\n",
    "    return ZnArray"
   ]
  },
  {
   "cell_type": "code",
   "execution_count": 18,
   "metadata": {},
   "outputs": [],
   "source": [
    "def ZnPlot(array):\n",
    "    plt.hist(array, bins = 20)\n",
    "    plt.xlabel('Zn Value')\n",
    "    plt.xlabel('Amount')\n",
    "    plt.show()"
   ]
  },
  {
   "cell_type": "code",
   "execution_count": 19,
   "metadata": {},
   "outputs": [
    {
     "data": {
      "image/png": "[encoded data removed]",
      "text/plain": [
       "<Figure size 432x288 with 1 Axes>"
      ]
     },
     "metadata": {
      "needs_background": "light"
     },
     "output_type": "display_data"
    },
    {
     "data": {
      "image/png": "[encoded data removed]",
      "text/plain": [
       "<Figure size 432x288 with 1 Axes>"
      ]
     },
     "metadata": {
      "needs_background": "light"
     },
     "output_type": "display_data"
    },
    {
     "data": {
      "image/png": "[encoded data removed]",
      "text/plain": [
       "<Figure size 432x288 with 1 Axes>"
      ]
     },
     "metadata": {
      "needs_background": "light"
     },
     "output_type": "display_data"
    }
   ],
   "source": [
    "# Q2a - small amount (7)\n",
    "sm = getZnArray(7)\n",
    "ZnPlot(sm)\n",
    "\n",
    "# Q2b - medium amount (40)\n",
    "med = getZnArray(40)\n",
    "ZnPlot(med)\n",
    "\n",
    "# Q2c - large amount (1300)\n",
    "lg = getZnArray(1300)\n",
    "ZnPlot(lg)"
   ]
  },
  {
   "cell_type": "markdown",
   "metadata": {},
   "source": [
    "Note: In the problem statement it says to see how as n grows larger (number of iid bernoulli variables) Zn should look more and more like a gaussian, however the two smaller n values actually seem to have greater similarity to a gaussian than the large n value when plotted with more bins than default (50). In fact as we increase bin amount from defualt (10) the above point happens with greater disparity i.e. 50 bins is worse than 20 is worse than 10."
   ]
  },
  {
   "cell_type": "markdown",
   "metadata": {},
   "source": [
    "## Written Questions\n",
    "\n",
    "### Q3. \n",
    "Consider a coin such that probability of heads is 2/3. Suppose you toss the coin 100 times. Estimate the probability of getting 50 or fewer heads. You can do this in a variety of ways. One way is to use the Central Limit Theorem. Be explicit in your calculations and tell us what tools you are using in these."
   ]
  },
  {
   "cell_type": "markdown",
   "metadata": {},
   "source": [
    "Lets first start with a smaller case to work with, flipping 10 coins. Chance of getting 0 heads is $(\\frac 2 3)^0 * (\\frac 1 3)^{10}$ since getting 0 heads means getting 10 tails. Now let's look at the case of getting 9 tails (1 head). Similar to the case of 0 head we start with $(\\frac 2 3)^1 * (\\frac 1 3)^{9}$ which tells us one case for getting exactly 1 head and 9 tails. However, since any of the coins can be heads we have 10 cases where one coin gets head or also $10\\choose1$. Note for 0 heads this would be $10\\choose0$ or 1. In fact calculating getting an exact amount of heads is merely an RV with a binomial distribution - ${n\\choose k}*p^k*(1-p)^{n-k}$. Now that we can calculate getting an exact amount of heads, summing them would get us the probabilty of getting x1 heads to x2 heads (CDF of the binomial RV). Since the problem asks for 50 or fewer heads, our x1 is 0 and x2 is 50. So the probability is ${P = \\sum_{k=0}^{50}}{100\\choose k}*(\\frac 2 3)^k*(\\frac 1 3)^{n-k}$."
   ]
  }
 ],
 "metadata": {
  "kernelspec": {
   "display_name": "Python 3",
   "language": "python",
   "name": "python3"
  },
  "language_info": {
   "codemirror_mode": {
    "name": "ipython",
    "version": 3
   },
   "file_extension": ".py",
   "mimetype": "text/x-python",
   "name": "python",
   "nbconvert_exporter": "python",
   "pygments_lexer": "ipython3",
   "version": "3.8.3"
  }
 },
 "nbformat": 4,
 "nbformat_minor": 4
}
