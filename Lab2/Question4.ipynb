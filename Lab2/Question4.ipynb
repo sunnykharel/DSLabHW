{
 "cells": [
  {
   "cell_type": "code",
   "execution_count": 14,
   "metadata": {},
   "outputs": [
    {
     "data": {
      "text/html": [
       "<div>\n",
       "<style scoped>\n",
       "    .dataframe tbody tr th:only-of-type {\n",
       "        vertical-align: middle;\n",
       "    }\n",
       "\n",
       "    .dataframe tbody tr th {\n",
       "        vertical-align: top;\n",
       "    }\n",
       "\n",
       "    .dataframe thead th {\n",
       "        text-align: right;\n",
       "    }\n",
       "</style>\n",
       "<table border=\"1\" class=\"dataframe\">\n",
       "  <thead>\n",
       "    <tr style=\"text-align: right;\">\n",
       "      <th></th>\n",
       "      <th>Name</th>\n",
       "      <th>Gender</th>\n",
       "      <th>Frequency</th>\n",
       "      <th>Year</th>\n",
       "    </tr>\n",
       "  </thead>\n",
       "  <tbody>\n",
       "    <tr>\n",
       "      <th>0</th>\n",
       "      <td>Anna</td>\n",
       "      <td>F</td>\n",
       "      <td>2604</td>\n",
       "      <td>1880</td>\n",
       "    </tr>\n",
       "    <tr>\n",
       "      <th>1</th>\n",
       "      <td>Emma</td>\n",
       "      <td>F</td>\n",
       "      <td>2003</td>\n",
       "      <td>1880</td>\n",
       "    </tr>\n",
       "    <tr>\n",
       "      <th>2</th>\n",
       "      <td>Elizabeth</td>\n",
       "      <td>F</td>\n",
       "      <td>1939</td>\n",
       "      <td>1880</td>\n",
       "    </tr>\n",
       "    <tr>\n",
       "      <th>3</th>\n",
       "      <td>Minnie</td>\n",
       "      <td>F</td>\n",
       "      <td>1746</td>\n",
       "      <td>1880</td>\n",
       "    </tr>\n",
       "    <tr>\n",
       "      <th>4</th>\n",
       "      <td>Margaret</td>\n",
       "      <td>F</td>\n",
       "      <td>1578</td>\n",
       "      <td>1880</td>\n",
       "    </tr>\n",
       "  </tbody>\n",
       "</table>\n",
       "</div>"
      ],
      "text/plain": [
       "        Name Gender  Frequency  Year\n",
       "0       Anna      F       2604  1880\n",
       "1       Emma      F       2003  1880\n",
       "2  Elizabeth      F       1939  1880\n",
       "3     Minnie      F       1746  1880\n",
       "4   Margaret      F       1578  1880"
      ]
     },
     "execution_count": 14,
     "metadata": {},
     "output_type": "execute_result"
    }
   ],
   "source": [
    "import pandas as pd\n",
    "\n",
    "\n",
    "import pandas as pd\n",
    "import glob\n",
    "\n",
    "def process_dataset(file):\n",
    "    d = pd.read_csv(file, sep=\",\")\n",
    "    d.columns=['Name', 'Gender', 'Frequency']\n",
    "    d['Year'] = int(file.split('/')[-1][3:7])\n",
    "    return d\n",
    "\n",
    "allfiles = glob.glob('Names/*.txt')\n",
    "data = pd.concat(process_dataset(file) for file in allfiles)\n",
    "data.head()\n"
   ]
  },
  {
   "cell_type": "code",
   "execution_count": 15,
   "metadata": {},
   "outputs": [
    {
     "data": {
      "text/plain": [
       "{'John': 8060, 'Helen': 6811, 'William': 6495, 'James': 6042, 'Margaret': 5690}"
      ]
     },
     "execution_count": 15,
     "metadata": {},
     "output_type": "execute_result"
    }
   ],
   "source": [
    "def top_k_names_in_year(k, year):\n",
    "    top_k = data.loc[data['Year']==year].nlargest(k, 'Frequency')\n",
    "    result = {}\n",
    "    for _, row in top_k.iterrows(): \n",
    "        result[row['Name']]= row['Frequency']\n",
    "    return result\n",
    "\n",
    "top_k_names_in_year(5, 1905)"
   ]
  },
  {
   "cell_type": "code",
   "execution_count": 16,
   "metadata": {},
   "outputs": [
    {
     "data": {
      "text/plain": [
       "{'M': 5095674, 'F': 21657}"
      ]
     },
     "execution_count": 16,
     "metadata": {},
     "output_type": "execute_result"
    }
   ],
   "source": [
    "def gender_name_frequencies(name):\n",
    "    return {\n",
    "        'M':data.loc[(data['Name']==name) & (data['Gender']=='M')].Frequency.sum(),\n",
    "        'F':data.loc[(data['Name']==name) & (data['Gender']=='F')].Frequency.sum()\n",
    "    }\n",
    "\n",
    "gender_name_frequencies('John')"
   ]
  },
  {
   "cell_type": "code",
   "execution_count": 17,
   "metadata": {},
   "outputs": [
    {
     "data": {
      "text/plain": [
       "{'John': 2.419693785649955,\n",
       " 'Helen': 2.044731311918343,\n",
       " 'William': 1.9498649054338038,\n",
       " 'James': 1.8138697087961573,\n",
       " 'Margaret': 1.708195737015911}"
      ]
     },
     "execution_count": 17,
     "metadata": {},
     "output_type": "execute_result"
    }
   ],
   "source": [
    "def top_k_names_in_year_relative_frequency(k, year):\n",
    "    number_names = len(data.loc[data['Year']==year].Name.unique())\n",
    "    top_k = data.loc[data['Year']==year].nlargest(k, 'Frequency')\n",
    "    result = {}\n",
    "    for _, row in top_k.iterrows(): \n",
    "        result[row['Name']]= row['Frequency']/number_names\n",
    "    return result\n",
    "\n",
    "top_k_names_in_year_relative_frequency(5, 1905)    "
   ]
  },
  {
   "cell_type": "code",
   "execution_count": 30,
   "metadata": {
    "scrolled": false
   },
   "outputs": [],
   "source": [
    "def gender_name_frequency_in_year(name, year):\n",
    "    m_cnt_vals = data.loc[(data['Name']==name) & (data['Gender']=='M') & (data['Year']==year), 'Frequency']\n",
    "    f_cnt_vals = data.loc[(data['Name']==name) & (data['Gender']=='F') & (data['Year']==year), 'Frequency']\n",
    "    print(m_cnt_vals, \"asdasdsa\", f_cnt_vals)\n",
    "    m_cnt, f_cnt = 0,0\n",
    "    if m_cnt_vals.size>0:\n",
    "        m_cnt=m_cnt_vals[:1]\n",
    "    if f_cnt_vals.size>0:\n",
    "        f_cnt=f_cnt_vals[:1]  \n",
    "    return (m_cnt, f_cnt)   \n",
    "\n",
    "def gender_popularity_shifted_names():\n",
    "    names = []\n",
    "    for name in data.Name.unique():\n",
    "        prev = gender_name_frequency_in_year(name, 1880)\n",
    "        gender=''\n",
    "        if prev[0]>prev[1]:\n",
    "            gender='M'\n",
    "        else:\n",
    "            gender='F'\n",
    "        for year in range(1880, 2016):\n",
    "            curr = gender_name_frequency_in_year(name, year)\n",
    "            new_gender ='M' if prev[0]>prev[1] else 'F'\n",
    "            if new_gender!=gender:\n",
    "                names.add(name)\n",
    "                break\n",
    "            gender = curr\n",
    "    return names\n",
    "\n",
    "names_to_count=dict()\n",
    "names = {}\n",
    "def foo(row):\n",
    "    if row.empty():\n",
    "        return 0\n",
    "    curr_name = row.iloc[0]['Name']\n",
    "    if curr_name in names:\n",
    "        return 0\n",
    "    elif len(row)==2: \n",
    "        male_row = 0 if row.iloc[0]['Gender']=='M' else 1\n",
    "        female_row = 1 if male_row==0 else 0        \n",
    "        difference = row.iloc[male_row]['Frequency']-row.iloc[female_row]['Frequency']\n",
    "        prev_diff = names_to_count[curr_name]\n",
    "        if prev_diff<0 and difference>0 or prev_diff>0 and difference<0:\n",
    "            names.add(curr_name)\n",
    "            return 0\n",
    "        else:\n",
    "            names_to_count[curr_name]=0\n",
    "    return 0\n",
    "data[:3000].groupby(['Name', 'Year']).apply(func=foo)\n",
    "print(names)\n"
   ]
  },
  {
   "cell_type": "code",
   "execution_count": 31,
   "metadata": {},
   "outputs": [
    {
     "name": "stdout",
     "output_type": "stream",
     "text": [
      "1469    12\n",
      "Name: Frequency, dtype: int64 asdasdsa 0    2604\n",
      "Name: Frequency, dtype: int64\n"
     ]
    },
    {
     "ename": "ValueError",
     "evalue": "Can only compare identically-labeled Series objects",
     "output_type": "error",
     "traceback": [
      "\u001b[0;31m---------------------------------------------------------------------------\u001b[0m",
      "\u001b[0;31mValueError\u001b[0m                                Traceback (most recent call last)",
      "\u001b[0;32m<ipython-input-31-8591975222de>\u001b[0m in \u001b[0;36m<module>\u001b[0;34m\u001b[0m\n\u001b[0;32m----> 1\u001b[0;31m \u001b[0mgender_popularity_shifted_names\u001b[0m\u001b[0;34m(\u001b[0m\u001b[0;34m)\u001b[0m\u001b[0;34m\u001b[0m\u001b[0;34m\u001b[0m\u001b[0m\n\u001b[0m",
      "\u001b[0;32m<ipython-input-30-df84cfa1c62c>\u001b[0m in \u001b[0;36mgender_popularity_shifted_names\u001b[0;34m()\u001b[0m\n\u001b[1;32m     15\u001b[0m         \u001b[0mprev\u001b[0m \u001b[0;34m=\u001b[0m \u001b[0mgender_name_frequency_in_year\u001b[0m\u001b[0;34m(\u001b[0m\u001b[0mname\u001b[0m\u001b[0;34m,\u001b[0m \u001b[0;36m1880\u001b[0m\u001b[0;34m)\u001b[0m\u001b[0;34m\u001b[0m\u001b[0;34m\u001b[0m\u001b[0m\n\u001b[1;32m     16\u001b[0m         \u001b[0mgender\u001b[0m\u001b[0;34m=\u001b[0m\u001b[0;34m''\u001b[0m\u001b[0;34m\u001b[0m\u001b[0;34m\u001b[0m\u001b[0m\n\u001b[0;32m---> 17\u001b[0;31m         \u001b[0;32mif\u001b[0m \u001b[0mprev\u001b[0m\u001b[0;34m[\u001b[0m\u001b[0;36m0\u001b[0m\u001b[0;34m]\u001b[0m\u001b[0;34m>\u001b[0m\u001b[0mprev\u001b[0m\u001b[0;34m[\u001b[0m\u001b[0;36m1\u001b[0m\u001b[0;34m]\u001b[0m\u001b[0;34m:\u001b[0m\u001b[0;34m\u001b[0m\u001b[0;34m\u001b[0m\u001b[0m\n\u001b[0m\u001b[1;32m     18\u001b[0m             \u001b[0mgender\u001b[0m\u001b[0;34m=\u001b[0m\u001b[0;34m'M'\u001b[0m\u001b[0;34m\u001b[0m\u001b[0;34m\u001b[0m\u001b[0m\n\u001b[1;32m     19\u001b[0m         \u001b[0;32melse\u001b[0m\u001b[0;34m:\u001b[0m\u001b[0;34m\u001b[0m\u001b[0;34m\u001b[0m\u001b[0m\n",
      "\u001b[0;32m~/.local/lib/python3.6/site-packages/pandas/core/ops/common.py\u001b[0m in \u001b[0;36mnew_method\u001b[0;34m(self, other)\u001b[0m\n\u001b[1;32m     63\u001b[0m         \u001b[0mother\u001b[0m \u001b[0;34m=\u001b[0m \u001b[0mitem_from_zerodim\u001b[0m\u001b[0;34m(\u001b[0m\u001b[0mother\u001b[0m\u001b[0;34m)\u001b[0m\u001b[0;34m\u001b[0m\u001b[0;34m\u001b[0m\u001b[0m\n\u001b[1;32m     64\u001b[0m \u001b[0;34m\u001b[0m\u001b[0m\n\u001b[0;32m---> 65\u001b[0;31m         \u001b[0;32mreturn\u001b[0m \u001b[0mmethod\u001b[0m\u001b[0;34m(\u001b[0m\u001b[0mself\u001b[0m\u001b[0;34m,\u001b[0m \u001b[0mother\u001b[0m\u001b[0;34m)\u001b[0m\u001b[0;34m\u001b[0m\u001b[0;34m\u001b[0m\u001b[0m\n\u001b[0m\u001b[1;32m     66\u001b[0m \u001b[0;34m\u001b[0m\u001b[0m\n\u001b[1;32m     67\u001b[0m     \u001b[0;32mreturn\u001b[0m \u001b[0mnew_method\u001b[0m\u001b[0;34m\u001b[0m\u001b[0;34m\u001b[0m\u001b[0m\n",
      "\u001b[0;32m~/.local/lib/python3.6/site-packages/pandas/core/ops/__init__.py\u001b[0m in \u001b[0;36mwrapper\u001b[0;34m(self, other)\u001b[0m\n\u001b[1;32m    363\u001b[0m \u001b[0;34m\u001b[0m\u001b[0m\n\u001b[1;32m    364\u001b[0m         \u001b[0;32mif\u001b[0m \u001b[0misinstance\u001b[0m\u001b[0;34m(\u001b[0m\u001b[0mother\u001b[0m\u001b[0;34m,\u001b[0m \u001b[0mABCSeries\u001b[0m\u001b[0;34m)\u001b[0m \u001b[0;32mand\u001b[0m \u001b[0;32mnot\u001b[0m \u001b[0mself\u001b[0m\u001b[0;34m.\u001b[0m\u001b[0m_indexed_same\u001b[0m\u001b[0;34m(\u001b[0m\u001b[0mother\u001b[0m\u001b[0;34m)\u001b[0m\u001b[0;34m:\u001b[0m\u001b[0;34m\u001b[0m\u001b[0;34m\u001b[0m\u001b[0m\n\u001b[0;32m--> 365\u001b[0;31m             \u001b[0;32mraise\u001b[0m \u001b[0mValueError\u001b[0m\u001b[0;34m(\u001b[0m\u001b[0;34m\"Can only compare identically-labeled Series objects\"\u001b[0m\u001b[0;34m)\u001b[0m\u001b[0;34m\u001b[0m\u001b[0;34m\u001b[0m\u001b[0m\n\u001b[0m\u001b[1;32m    366\u001b[0m \u001b[0;34m\u001b[0m\u001b[0m\n\u001b[1;32m    367\u001b[0m         \u001b[0mlvalues\u001b[0m \u001b[0;34m=\u001b[0m \u001b[0mextract_array\u001b[0m\u001b[0;34m(\u001b[0m\u001b[0mself\u001b[0m\u001b[0;34m,\u001b[0m \u001b[0mextract_numpy\u001b[0m\u001b[0;34m=\u001b[0m\u001b[0;32mTrue\u001b[0m\u001b[0;34m)\u001b[0m\u001b[0;34m\u001b[0m\u001b[0;34m\u001b[0m\u001b[0m\n",
      "\u001b[0;31mValueError\u001b[0m: Can only compare identically-labeled Series objects"
     ]
    }
   ],
   "source": [
    "gender_popularity_shifted_names()"
   ]
  }
 ],
 "metadata": {
  "kernelspec": {
   "display_name": "Python 3",
   "language": "python",
   "name": "python3"
  },
  "language_info": {
   "codemirror_mode": {
    "name": "ipython",
    "version": 3
   },
   "file_extension": ".py",
   "mimetype": "text/x-python",
   "name": "python",
   "nbconvert_exporter": "python",
   "pygments_lexer": "ipython3",
   "version": "3.6.9"
  }
 },
 "nbformat": 4,
 "nbformat_minor": 4
}
