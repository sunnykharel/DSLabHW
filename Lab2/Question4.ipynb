{
 "cells": [
  {
   "cell_type": "code",
   "execution_count": 2,
   "metadata": {},
   "outputs": [
    {
     "data": {
      "text/html": [
       "<div>\n",
       "<style scoped>\n",
       "    .dataframe tbody tr th:only-of-type {\n",
       "        vertical-align: middle;\n",
       "    }\n",
       "\n",
       "    .dataframe tbody tr th {\n",
       "        vertical-align: top;\n",
       "    }\n",
       "\n",
       "    .dataframe thead th {\n",
       "        text-align: right;\n",
       "    }\n",
       "</style>\n",
       "<table border=\"1\" class=\"dataframe\">\n",
       "  <thead>\n",
       "    <tr style=\"text-align: right;\">\n",
       "      <th></th>\n",
       "      <th>Name</th>\n",
       "      <th>Gender</th>\n",
       "      <th>Frequency</th>\n",
       "      <th>Year</th>\n",
       "    </tr>\n",
       "  </thead>\n",
       "  <tbody>\n",
       "    <tr>\n",
       "      <th>0</th>\n",
       "      <td>Helen</td>\n",
       "      <td>F</td>\n",
       "      <td>6811</td>\n",
       "      <td>1905</td>\n",
       "    </tr>\n",
       "    <tr>\n",
       "      <th>1</th>\n",
       "      <td>Margaret</td>\n",
       "      <td>F</td>\n",
       "      <td>5690</td>\n",
       "      <td>1905</td>\n",
       "    </tr>\n",
       "    <tr>\n",
       "      <th>2</th>\n",
       "      <td>Anna</td>\n",
       "      <td>F</td>\n",
       "      <td>5424</td>\n",
       "      <td>1905</td>\n",
       "    </tr>\n",
       "    <tr>\n",
       "      <th>3</th>\n",
       "      <td>Ruth</td>\n",
       "      <td>F</td>\n",
       "      <td>5068</td>\n",
       "      <td>1905</td>\n",
       "    </tr>\n",
       "    <tr>\n",
       "      <th>4</th>\n",
       "      <td>Elizabeth</td>\n",
       "      <td>F</td>\n",
       "      <td>4121</td>\n",
       "      <td>1905</td>\n",
       "    </tr>\n",
       "  </tbody>\n",
       "</table>\n",
       "</div>"
      ],
      "text/plain": [
       "        Name Gender  Frequency  Year\n",
       "0      Helen      F       6811  1905\n",
       "1   Margaret      F       5690  1905\n",
       "2       Anna      F       5424  1905\n",
       "3       Ruth      F       5068  1905\n",
       "4  Elizabeth      F       4121  1905"
      ]
     },
     "execution_count": 2,
     "metadata": {},
     "output_type": "execute_result"
    }
   ],
   "source": [
    "import pandas as pd\n",
    "\n",
    "\n",
    "import pandas as pd\n",
    "import glob\n",
    "\n",
    "def process_dataset(file):\n",
    "    d = pd.read_csv(file, sep=\",\")\n",
    "    d.columns=['Name', 'Gender', 'Frequency']\n",
    "    d['Year'] = int(file.split('/')[-1][3:7])\n",
    "    return d\n",
    "\n",
    "allfiles = glob.glob('Names/*.txt')\n",
    "data = pd.concat(process_dataset(file) for file in allfiles)\n",
    "data.head()\n"
   ]
  },
  {
   "cell_type": "code",
   "execution_count": 3,
   "metadata": {},
   "outputs": [
    {
     "data": {
      "text/plain": [
       "{'Helen': 6811, 'James': 6042, 'John': 8060, 'Margaret': 5690, 'William': 6495}"
      ]
     },
     "execution_count": 3,
     "metadata": {},
     "output_type": "execute_result"
    }
   ],
   "source": [
    "def top_k_names_in_year(k, year):\n",
    "    top_k = data.loc[data['Year']==year].nlargest(k, 'Frequency')\n",
    "    result = {}\n",
    "    for _, row in top_k.iterrows(): \n",
    "        result[row['Name']]= row['Frequency']\n",
    "    return result\n",
    "\n",
    "top_k_names_in_year(5, 1905)"
   ]
  },
  {
   "cell_type": "code",
   "execution_count": 4,
   "metadata": {},
   "outputs": [
    {
     "data": {
      "text/plain": [
       "{'F': 21657, 'M': 5095674}"
      ]
     },
     "execution_count": 4,
     "metadata": {},
     "output_type": "execute_result"
    }
   ],
   "source": [
    "def gender_name_frequencies(name):\n",
    "    return {\n",
    "        'M':data.loc[(data['Name']==name) & (data['Gender']=='M')].Frequency.sum(),\n",
    "        'F':data.loc[(data['Name']==name) & (data['Gender']=='F')].Frequency.sum()\n",
    "    }\n",
    "\n",
    "gender_name_frequencies('John')"
   ]
  },
  {
   "cell_type": "code",
   "execution_count": 8,
   "metadata": {},
   "outputs": [
    {
     "data": {
      "text/plain": [
       "{'Helen': 2.044731311918343,\n",
       " 'James': 1.8138697087961573,\n",
       " 'John': 2.419693785649955,\n",
       " 'Margaret': 1.708195737015911,\n",
       " 'William': 1.9498649054338038}"
      ]
     },
     "execution_count": 8,
     "metadata": {},
     "output_type": "execute_result"
    }
   ],
   "source": [
    "def top_k_names_in_year_relative_frequency(k, year):\n",
    "    number_names = len(data.loc[data['Year']==year].Name.unique())\n",
    "    top_k = data.loc[data['Year']==year].nlargest(k, 'Frequency')\n",
    "    result = {}\n",
    "    for _, row in top_k.iterrows(): \n",
    "        result[row['Name']]= row['Frequency']/number_names\n",
    "    return result\n",
    "\n",
    "top_k_names_in_year_relative_frequency(5, 1905)    "
   ]
  },
  {
   "cell_type": "code",
   "execution_count": 89,
   "metadata": {
    "scrolled": false
   },
   "outputs": [
    {
     "name": "stdout",
     "output_type": "stream",
     "text": [
      "1858553\n"
     ]
    }
   ],
   "source": [
    "# def gender_name_frequency_in_year(name, year):\n",
    "#     m_cnt_vals = data.loc[(data['Name']==name) & (data['Gender']=='M') & (data['Year']==year), 'Frequency']\n",
    "#     f_cnt_vals = data.loc[(data['Name']==name) & (data['Gender']=='F') & (data['Year']==year), 'Frequency']\n",
    "#     m_cnt, f_cnt = 0,0\n",
    "#     if m_cnt_vals.size>0:\n",
    "#         m_cnt=m_cnt_vals[0]\n",
    "#     if f_cnt_vals.size>0:\n",
    "#         f_cnt=f_cnt_vals[0]  \n",
    "#     return (m_cnt, f_cnt)   \n",
    "data.loc[(data['Name']=='John') & (data['Gender']=='M') & (data['Year']==1905), 'Frequency']\n",
    "    \n",
    "#get all the multigender names    \n",
    "    \n",
    "data\n",
    "a=0\n",
    "for i in range(1858553):\n",
    "    a+=1\n",
    "print(a)\n",
    "# # print(gender_name_frequency_in_year('Jamie', 1905))\n",
    "# names = set()\n",
    "print(len(data))\n",
    "\n",
    "def gender_popularity_shifted_names():\n",
    "    #make a df of name, year male gender frequency, female gender frequency, difference\n",
    "    \n",
    "    \n",
    "    \n",
    "    \n",
    "#     a = 0\n",
    "#     for _, _ in data.iterrows():\n",
    "#         a+=1\n",
    "#     print(a)\n",
    "gender_popularity_shifted_names()\n",
    "\n"
   ]
  },
  {
   "cell_type": "code",
   "execution_count": null,
   "metadata": {},
   "outputs": [],
   "source": [
    "count \n",
    "for index, row in data.iterrows():\n",
    "    "
   ]
  }
 ],
 "metadata": {
  "kernelspec": {
   "display_name": "Python 3",
   "language": "python",
   "name": "python3"
  },
  "language_info": {
   "codemirror_mode": {
    "name": "ipython",
    "version": 3
   },
   "file_extension": ".py",
   "mimetype": "text/x-python",
   "name": "python",
   "nbconvert_exporter": "python",
   "pygments_lexer": "ipython3",
   "version": "3.5.2"
  }
 },
 "nbformat": 4,
 "nbformat_minor": 4
}
