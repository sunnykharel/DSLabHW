{
 "cells": [
  {
   "cell_type": "markdown",
   "metadata": {},
   "source": [
    "Daniel Li, ddl933\n",
    "\n",
    "### Question 2 - Outliers\n",
    "\n",
    "Consider the two-dimensional data in DF2 in Lab2 Data.zip. Look at a scatter plot of the data. It contains two points that look like potential outliers. Which one is “more” outlying? Propose a transformation of the data that makes it clear that the point at (−1, 1) is more outlying than the point at (5.5, 5), even though the latter point is“farther away” from the nearest points. Plot the data again after performing this transformation. Provide discussion as appropriate to justify your choice of transformation.\n",
    "\n",
    "Hint: if y comes from a standard Gaussian in two dimensions (i.e., with covariance equal to the two by two identity matrix), and $Q = \n",
    "\\begin{pmatrix}\n",
    "2 & \\frac 1 2 \\\\\n",
    "\\frac 1 2 & 2\n",
    "\\end{pmatrix}$\n",
    "\n",
    "what is the covariance matrix of the random variable z = Qy? If you are given z, how would you create a random Gaussian vector with covariance equal to the identity, using z?"
   ]
  },
  {
   "cell_type": "code",
   "execution_count": 1,
   "metadata": {},
   "outputs": [],
   "source": [
    "import numpy as np\n",
    "import pandas as pd\n",
    "import matplotlib as mpl\n",
    "import matplotlib.pyplot as plt"
   ]
  },
  {
   "cell_type": "code",
   "execution_count": 2,
   "metadata": {
    "scrolled": true
   },
   "outputs": [
    {
     "name": "stdout",
     "output_type": "stream",
     "text": [
      "['Unnamed: 0', '0', '1'] \n",
      "\n"
     ]
    },
    {
     "data": {
      "image/png": "[encoded data removed]",
      "text/plain": [
       "<Figure size 432x288 with 1 Axes>"
      ]
     },
     "metadata": {
      "needs_background": "light"
     },
     "output_type": "display_data"
    }
   ],
   "source": [
    "# Reading data and making the dataframe \n",
    "data = pd.read_csv('DF2')\n",
    "testdata = pd.read_csv('DF2')\n",
    "df = pd.DataFrame(data)\n",
    "\n",
    "# From looking at the dataframe, the first column seemed to just count num. of data entries. Second and third columns are actual data.\n",
    "print(list(df), '\\n')\n",
    "\n",
    "# Plotting scatter plot of the data\n",
    "scatterPlot = df.plot.scatter(x='0', y='1', c = None)"
   ]
  },
  {
   "cell_type": "markdown",
   "metadata": {},
   "source": [
    "From scatter plot, two data points seem to be outliers. (-1, 1) and (5.5, 5). We can also that most data points are ploted around the line x = y."
   ]
  },
  {
   "cell_type": "code",
   "execution_count": 3,
   "metadata": {},
   "outputs": [
    {
     "data": {
      "text/plain": [
       "array([[1.00464777, 0.9942424 ],\n",
       "       [0.9942424 , 1.00415964]])"
      ]
     },
     "execution_count": 3,
     "metadata": {},
     "output_type": "execute_result"
    }
   ],
   "source": [
    "np.cov(df['0'], df['1'])"
   ]
  },
  {
   "cell_type": "code",
   "execution_count": 4,
   "metadata": {},
   "outputs": [],
   "source": [
    "# Transformation Matrix\n",
    "q = np.asarray([[1, -1],\n",
    "                [-1, 1]])"
   ]
  },
  {
   "cell_type": "code",
   "execution_count": 5,
   "metadata": {},
   "outputs": [],
   "source": [
    "# Transforming all data by z = Qy where z is output data, y is input data (data graphed above), Q is transformation matrix, Qy is dot product\n",
    "x = np.asarray(df['0'])\n",
    "y = np.asarray(df['1'])\n",
    "z = np.zeros(len(x))\n",
    "for i in range(0, len(x)):\n",
    "    z = [x[i], y[i]]\n",
    "    c = np.dot(q, z)\n",
    "    x[i] = c[0]\n",
    "    y[i] = c[1]\n"
   ]
  },
  {
   "cell_type": "code",
   "execution_count": 6,
   "metadata": {},
   "outputs": [
    {
     "data": {
      "text/plain": [
       "array([[ 0.02032261, -0.02032261],\n",
       "       [-0.02032261,  0.02032261]])"
      ]
     },
     "execution_count": 6,
     "metadata": {},
     "output_type": "execute_result"
    },
    {
     "data": {
      "image/png": "[encoded data removed]",
      "text/plain": [
       "<Figure size 432x288 with 1 Axes>"
      ]
     },
     "metadata": {
      "needs_background": "light"
     },
     "output_type": "display_data"
    }
   ],
   "source": [
    "# Graph new matrix and show covariance matrix.\n",
    "scatterPlot = df.plot.scatter(x= '0', y= '1', c = None)\n",
    "cov_matrix = np.cov(df['0'], df['1'])\n",
    "cov_matrix"
   ]
  },
  {
   "cell_type": "code",
   "execution_count": 7,
   "metadata": {},
   "outputs": [
    {
     "data": {
      "text/plain": [
       "array([-2,  2])"
      ]
     },
     "execution_count": 7,
     "metadata": {},
     "output_type": "execute_result"
    }
   ],
   "source": [
    "# Outlier we want to separate\n",
    "a = [-1, 1]\n",
    "c = np.dot(q, a)\n",
    "c"
   ]
  },
  {
   "cell_type": "markdown",
   "metadata": {},
   "source": [
    "The transformation matrix $Q=\\begin{pmatrix}\n",
    "1 & -1 \\\\\n",
    "-1 & 1\n",
    "\\end{pmatrix}$ was picked because points around the x=y line would all be mapped arouned the origin as it would subtract x and y allowing new x and y to be 0 since the original x and y's are around x=y.\n",
    "Meanwhile the outlier since it is (-1, 1) would have its new coordinates at (-2, 2)."
   ]
  }
 ],
 "metadata": {
  "kernelspec": {
   "display_name": "Python 3",
   "language": "python",
   "name": "python3"
  },
  "language_info": {
   "codemirror_mode": {
    "name": "ipython",
    "version": 3
   },
   "file_extension": ".py",
   "mimetype": "text/x-python",
   "name": "python",
   "nbconvert_exporter": "python",
   "pygments_lexer": "ipython3",
   "version": "3.8.3"
  }
 },
 "nbformat": 4,
 "nbformat_minor": 4
}
