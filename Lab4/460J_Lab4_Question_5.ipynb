{
  "nbformat": 4,
  "nbformat_minor": 0,
  "metadata": {
    "colab": {
      "name": "460J Lab4: Question 5",
      "provenance": [],
      "collapsed_sections": []
    },
    "kernelspec": {
      "name": "python3",
      "display_name": "Python 3"
    },
    "accelerator": "GPU"
  },
  "cells": [
    {
      "cell_type": "code",
      "metadata": {
        "id": "7c0TcgTedHFl"
      },
      "source": [
        "%matplotlib inline"
      ],
      "execution_count": 1,
      "outputs": []
    },
    {
      "cell_type": "markdown",
      "metadata": {
        "id": "QsLKM0_sDe9C"
      },
      "source": [
        "##Question 5:\n",
        "Assuming previous tutorial has been done. We will start with our base CNN from the \"What is torch.nn\" tutorial."
      ]
    },
    {
      "cell_type": "markdown",
      "metadata": {
        "id": "CEITjf-cD8dV"
      },
      "source": [
        "### Loading MNIST Dataset"
      ]
    },
    {
      "cell_type": "code",
      "metadata": {
        "id": "I5E4scKmD3J4",
        "outputId": "c90e3051-9773-4b18-ae61-6ce1fe9354b9",
        "colab": {
          "base_uri": "https://localhost:8080/",
          "height": 282
        }
      },
      "source": [
        "# Loading Dataset libraries\n",
        "from pathlib import Path\n",
        "import requests\n",
        "import pickle\n",
        "import gzip\n",
        "# Computional and Graphical libraries\n",
        "from matplotlib import pyplot\n",
        "import numpy as np\n",
        "import torch\n",
        "# Debugger Library\n",
        "from IPython.core.debugger import set_trace\n",
        "\n",
        "DATA_PATH = Path(\"data\")\n",
        "PATH = DATA_PATH / \"mnist\"\n",
        "\n",
        "PATH.mkdir(parents=True, exist_ok=True)\n",
        "\n",
        "URL = \"http://deeplearning.net/data/mnist/\"\n",
        "FILENAME = \"mnist.pkl.gz\"\n",
        "\n",
        "if not (PATH / FILENAME).exists():\n",
        "        content = requests.get(URL + FILENAME).content\n",
        "        (PATH / FILENAME).open(\"wb\").write(content)\n",
        "\n",
        "with gzip.open((PATH / FILENAME).as_posix(), \"rb\") as f:\n",
        "        ((x_train, y_train), (x_valid, y_valid), _) = pickle.load(f, encoding=\"latin-1\")\n",
        "  \n",
        "pyplot.imshow(x_train[0].reshape((28, 28)), cmap=\"gray\")\n",
        "print(x_train.shape)\n",
        "\n",
        "x_train, y_train, x_valid, y_valid = map(\n",
        "    torch.tensor, (x_train, y_train, x_valid, y_valid)\n",
        ")"
      ],
      "execution_count": 2,
      "outputs": [
        {
          "output_type": "stream",
          "text": [
            "(50000, 784)\n"
          ],
          "name": "stdout"
        },
        {
          "output_type": "display_data",
          "data": {
            "image/png": "[encoded data removed]",
            "text/plain": [
              "<Figure size 432x288 with 1 Axes>"
            ]
          },
          "metadata": {
            "tags": [],
            "needs_background": "light"
          }
        }
      ]
    },
    {
      "cell_type": "markdown",
      "metadata": {
        "id": "CMcTQm2KcsBR"
      },
      "source": [
        "### Is GPU availble?"
      ]
    },
    {
      "cell_type": "code",
      "metadata": {
        "id": "-UzDQRUkdEer",
        "outputId": "d0a90b8e-eaf5-4b5d-be98-7c500e5b84fc",
        "colab": {
          "base_uri": "https://localhost:8080/",
          "height": 34
        }
      },
      "source": [
        "print(torch.cuda.is_available())\n",
        "dev = torch.device(\n",
        "    \"cuda\") if torch.cuda.is_available() else torch.device(\"cpu\")"
      ],
      "execution_count": 3,
      "outputs": [
        {
          "output_type": "stream",
          "text": [
            "True\n"
          ],
          "name": "stdout"
        }
      ]
    },
    {
      "cell_type": "markdown",
      "metadata": {
        "id": "tMX9BjCDO-iJ"
      },
      "source": [
        "### Classes and Functions"
      ]
    },
    {
      "cell_type": "code",
      "metadata": {
        "id": "gZCog-fXHVDG"
      },
      "source": [
        "# Training and Validation Datasets/DataLoaders Libraries\n",
        "from torch.utils.data import TensorDataset\n",
        "from torch.utils.data import DataLoader\n",
        "# Optim and NN libraries\n",
        "from torch import optim\n",
        "from torch import nn\n",
        "import torch.nn.functional as F\n",
        "\n",
        "def get_data(train_ds, valid_ds, bs):\n",
        "    return (\n",
        "        DataLoader(train_ds, batch_size=bs, shuffle=True),\n",
        "        DataLoader(valid_ds, batch_size=bs * 2),\n",
        "    )\n",
        "\n",
        "loss_func = F.cross_entropy\n",
        "\n",
        "def loss_batch(model, loss_func, xb, yb, opt=None):\n",
        "    loss = loss_func(model(xb), yb)\n",
        "\n",
        "    if opt is not None:\n",
        "        loss.backward()\n",
        "        opt.step()\n",
        "        opt.zero_grad()\n",
        "\n",
        "    return loss.item(), len(xb)\n",
        "\n",
        "def fit(epochs, model, loss_func, opt, train_dl, valid_dl):\n",
        "    for epoch in range(epochs):\n",
        "        model.train()\n",
        "        for xb, yb in train_dl:\n",
        "            loss_batch(model, loss_func, xb, yb, opt)\n",
        "\n",
        "        model.eval()\n",
        "        with torch.no_grad():\n",
        "            losses, nums = zip(\n",
        "                *[loss_batch(model, loss_func, xb, yb) for xb, yb in valid_dl]\n",
        "            )\n",
        "        val_loss = np.sum(np.multiply(losses, nums)) / np.sum(nums)\n",
        "        val_acc = sum(accuracy(model(xb), yb) for xb, yb in valid_dl)    #valid_loss / len(valid_dl)\n",
        "\n",
        "        val_acc = val_acc.cpu().detach().numpy() \n",
        "        print(epoch, val_loss, val_acc / len(valid_dl))\n",
        "\n",
        "class Lambda(nn.Module):\n",
        "    def __init__(self, func):\n",
        "        super().__init__()\n",
        "        self.func = func\n",
        "\n",
        "    def forward(self, x):\n",
        "        return self.func(x)\n",
        "\n",
        "def preprocess(x, y):\n",
        "    return x.view(-1, 1, 28, 28).to(dev), y.to(dev)\n",
        "\n",
        "class WrappedDataLoader:\n",
        "    def __init__(self, dl, func):\n",
        "        self.dl = dl\n",
        "        self.func = func\n",
        "\n",
        "    def __len__(self):\n",
        "        return len(self.dl)\n",
        "\n",
        "    def __iter__(self):\n",
        "        batches = iter(self.dl)\n",
        "        for b in batches:\n",
        "            yield (self.func(*b))\n",
        "\n",
        "# Accuracy check from Validation Test.\n",
        "def accuracy(out, yb):\n",
        "    preds = torch.argmax(out, dim=1)\n",
        "    return (preds == yb).float().mean()"
      ],
      "execution_count": 4,
      "outputs": []
    },
    {
      "cell_type": "markdown",
      "metadata": {
        "id": "i4eSN4xwSlH3"
      },
      "source": [
        "### Initial Variables"
      ]
    },
    {
      "cell_type": "code",
      "metadata": {
        "id": "7XzHWMwESqht"
      },
      "source": [
        "bs = 64  # batch size\n",
        "lr = 0.1  # learning rate\n",
        "epochs = 2  # how many epochs to train for\n",
        "a = np.zeros((20, 10), dtype=(float,5))"
      ],
      "execution_count": 5,
      "outputs": []
    },
    {
      "cell_type": "markdown",
      "metadata": {
        "id": "hmjbN1m4Hes_"
      },
      "source": [
        "### Training and Validation Datasets/DataLoaders \n"
      ]
    },
    {
      "cell_type": "code",
      "metadata": {
        "id": "CtFZG5JNPmZ1"
      },
      "source": [
        "train_ds = TensorDataset(x_train, y_train)\n",
        "valid_ds = TensorDataset(x_valid, y_valid)\n",
        "train_dl, valid_dl = get_data(train_ds, valid_ds, bs)\n",
        "train_dl = WrappedDataLoader(train_dl, preprocess)\n",
        "valid_dl = WrappedDataLoader(valid_dl, preprocess)"
      ],
      "execution_count": 6,
      "outputs": []
    },
    {
      "cell_type": "markdown",
      "metadata": {
        "id": "Fb_1kpsPQVeu"
      },
      "source": [
        "### Model and Optim (Use to do Foward Step)"
      ]
    },
    {
      "cell_type": "code",
      "metadata": {
        "id": "N_2xEVWOPfXY"
      },
      "source": [
        "model = nn.Sequential(\n",
        "    nn.Conv2d(1, 16, kernel_size=3, stride=2, padding=1),\n",
        "    nn.ReLU(),\n",
        "    nn.Conv2d(16, 16, kernel_size=3, stride=2, padding=1),\n",
        "    nn.ReLU(),\n",
        "    nn.Conv2d(16, 10, kernel_size=3, stride=2, padding=1),\n",
        "    nn.ReLU(),\n",
        "    nn.AdaptiveAvgPool2d(1),\n",
        "    Lambda(lambda x: x.view(x.size(0), -1)),\n",
        ")\n",
        "model.to(dev)\n",
        "opt = optim.SGD(model.parameters(), lr=lr, momentum=0.9)"
      ],
      "execution_count": 7,
      "outputs": []
    },
    {
      "cell_type": "markdown",
      "metadata": {
        "id": "8zlVNqLRQzrX"
      },
      "source": [
        "### Training of Model. Outputs Validation Loss.\n"
      ]
    },
    {
      "cell_type": "code",
      "metadata": {
        "id": "90d4ijwtQ7Qu",
        "outputId": "93e221ac-2891-463e-8ccf-ad3ad748ec4f",
        "colab": {
          "base_uri": "https://localhost:8080/",
          "height": 50
        }
      },
      "source": [
        "fit(epochs, model, loss_func, opt, train_dl, valid_dl)"
      ],
      "execution_count": 8,
      "outputs": [
        {
          "output_type": "stream",
          "text": [
            "0 0.339774385368824 0.8920094936708861\n",
            "1 0.21009030851125718 0.9386867088607594\n"
          ],
          "name": "stdout"
        }
      ]
    },
    {
      "cell_type": "markdown",
      "metadata": {
        "id": "0VtIxe6hx_q_"
      },
      "source": [
        "### Testing different learning rate and momentum values.\n"
      ]
    },
    {
      "cell_type": "code",
      "metadata": {
        "id": "q55lEp7YyRmF",
        "outputId": "b8d65788-5e05-495f-a238-3866294d98ae",
        "colab": {
          "base_uri": "https://localhost:8080/",
          "height": 1000
        }
      },
      "source": [
        "def fit(epochs, model, loss_func, opt, train_dl, valid_dl, mat, lr, momentum):\n",
        "    for epoch in range(epochs):\n",
        "        model.train()\n",
        "        for xb, yb in train_dl:\n",
        "            loss_batch(model, loss_func, xb, yb, opt)\n",
        "\n",
        "        model.eval()\n",
        "        with torch.no_grad():\n",
        "            losses, nums = zip(\n",
        "                *[loss_batch(model, loss_func, xb, yb) for xb, yb in valid_dl]\n",
        "            )\n",
        "\n",
        "        val_loss = np.sum(np.multiply(losses, nums)) / np.sum(nums)\n",
        "        val_acc = sum(accuracy(model(xb), yb) for xb, yb in valid_dl)    #valid_loss / len(valid_dl)\n",
        "        val_acc = val_acc.cpu().detach().numpy() / len(valid_dl)\n",
        "        mat_data = (epoch, lr, momentum, val_loss, val_acc)\n",
        "        mat[int(((lr*20)-2)+epoch)][int(momentum*10)] = mat_data\n",
        "        print(epoch, val_loss, val_acc)\n",
        "    return mat\n",
        "################################################################################\n",
        "model = nn.Sequential(\n",
        "    nn.Conv2d(1, 16, kernel_size=3, stride=2, padding=1),\n",
        "    nn.ReLU(),\n",
        "    nn.Conv2d(16, 16, kernel_size=3, stride=2, padding=1),\n",
        "    nn.ReLU(),\n",
        "    nn.Conv2d(16, 10, kernel_size=3, stride=2, padding=1),\n",
        "    nn.ReLU(),\n",
        "    nn.AdaptiveAvgPool2d(1),\n",
        "    Lambda(lambda x: x.view(x.size(0), -1)),\n",
        ")\n",
        "model.to(dev)\n",
        "for x in range(10):           # Varying for LR from 0.1 to 1.0  \n",
        "  lr = (x+1)/10\n",
        "  for y in range(10):         # Varying for Momentum 0.0 to 0.9\n",
        "    momentum = y/10\n",
        "    opt = optim.SGD(model.parameters(), lr=lr, momentum=momentum)\n",
        "    print(lr, momentum)\n",
        "    a = fit(epochs, model, loss_func, opt, train_dl, valid_dl, a, lr, momentum)\n"
      ],
      "execution_count": 10,
      "outputs": [
        {
          "output_type": "stream",
          "text": [
            "0.1 0.0\n",
            "0 1.4863000289916992 0.45905854430379744\n",
            "1 1.1271489278793334 0.6269778481012658\n",
            "0.1 0.1\n",
            "0 0.6791762075424195 0.7776898734177216\n",
            "1 0.6144604323863984 0.7991495253164557\n",
            "0.1 0.2\n",
            "0 0.3710880497455597 0.8862737341772152\n",
            "1 0.37908401839733125 0.8816257911392406\n",
            "0.1 0.3\n",
            "0 0.2817768128156662 0.9165348101265823\n",
            "1 0.2684560010433197 0.9212816455696202\n",
            "0.1 0.4\n",
            "0 0.25333035026788714 0.9282041139240507\n",
            "1 0.2586450876951218 0.9212816455696202\n",
            "0.1 0.5\n",
            "0 0.4873069658279419 0.8554193037974683\n",
            "1 0.28710642221570015 0.912381329113924\n",
            "0.1 0.6\n",
            "0 0.24276638667583467 0.9288963607594937\n",
            "1 0.18893379352390766 0.9445213607594937\n",
            "0.1 0.7\n",
            "0 0.22176867967247962 0.9373022151898734\n",
            "1 0.19824675492346286 0.9425435126582279\n",
            "0.1 0.8\n",
            "0 0.18635324544012546 0.9465981012658228\n",
            "1 0.1841644081056118 0.9479825949367089\n",
            "0.1 0.9\n",
            "0 0.16314728631675243 0.9553006329113924\n",
            "1 0.18670903607010841 0.9434335443037974\n",
            "0.2 0.0\n",
            "0 0.18890684643387795 0.9449169303797469\n",
            "1 0.13567996456772088 0.9623219936708861\n",
            "0.2 0.1\n",
            "0 0.13560908826291562 0.9614319620253164\n",
            "1 0.13865472483336924 0.9605419303797469\n",
            "0.2 0.2\n",
            "0 0.143240681129694 0.9605419303797469\n",
            "1 0.13303159916996957 0.9636075949367089\n",
            "0.2 0.3\n",
            "0 0.1266035877585411 0.9653876582278481\n",
            "1 0.14329623847603798 0.9594541139240507\n",
            "0.2 0.4\n",
            "0 0.1692038366049528 0.9527294303797469\n",
            "1 0.1319958964318037 0.9638053797468354\n",
            "0.2 0.5\n",
            "0 0.1292878429055214 0.9634098101265823\n",
            "1 0.15155372014343738 0.9547072784810127\n",
            "0.2 0.6\n",
            "0 0.19529641719460486 0.9409612341772152\n",
            "1 0.14397044867277145 0.9579707278481012\n",
            "0.2 0.7\n",
            "0 0.12994211793243884 0.9634098101265823\n",
            "1 0.1205447984278202 0.9657832278481012\n",
            "0.2 0.8\n",
            "0 0.16830104094743728 0.9522349683544303\n",
            "1 0.12831478562355042 0.9618275316455697\n",
            "0.2 0.9\n",
            "0 0.16074707213640213 0.9518393987341772\n",
            "1 0.14952371793985367 0.9547072784810127\n",
            "0.3 0.0\n",
            "0 0.11870482016801834 0.9660799050632911\n",
            "1 0.10813531310111284 0.9692444620253164\n",
            "0.3 0.1\n",
            "0 0.1210621126294136 0.9652887658227848\n",
            "1 0.12322547079324722 0.9623219936708861\n",
            "0.3 0.2\n",
            "0 0.10488862806260586 0.9710245253164557\n",
            "1 0.11765727536678314 0.9677610759493671\n",
            "0.3 0.3\n",
            "0 0.10943166644871236 0.9676621835443038\n",
            "1 0.1112074060536921 0.9690466772151899\n",
            "0.3 0.4\n",
            "0 0.1177787490002811 0.9668710443037974\n",
            "1 0.1046140064574778 0.9691455696202531\n",
            "0.3 0.5\n",
            "0 0.11730511011183262 0.9655854430379747\n",
            "1 0.10850781296938658 0.9671677215189873\n",
            "0.3 0.6\n",
            "0 0.10955738279595971 0.9684533227848101\n",
            "1 0.13792303424477578 0.9615308544303798\n",
            "0.3 0.7\n",
            "0 0.11805085754543543 0.966376582278481\n",
            "1 0.12346452119648457 0.9660799050632911\n",
            "0.3 0.8\n",
            "0 0.12732999440878628 0.964003164556962\n",
            "1 0.1368689041465521 0.960245253164557\n",
            "0.3 0.9\n",
            "0 0.21382727062702178 0.9417523734177216\n",
            "1 0.1464859338864684 0.9604430379746836\n",
            "0.4 0.0\n",
            "0 0.11167256118580698 0.9682555379746836\n",
            "1 0.11187256010994315 0.9684533227848101\n",
            "0.4 0.1\n",
            "0 0.12224916501864791 0.9654865506329114\n",
            "1 0.10780785501897334 0.9686511075949367\n",
            "0.4 0.2\n",
            "0 0.10693383365571499 0.9705300632911392\n",
            "1 0.11585912493914366 0.968057753164557\n",
            "0.4 0.3\n",
            "0 0.11361051338221878 0.9682555379746836\n",
            "1 0.10292249005138875 0.9716178797468354\n",
            "0.4 0.4\n",
            "0 0.10658358543086797 0.9702333860759493\n",
            "1 0.11027148991525174 0.969442246835443\n",
            "0.4 0.5\n",
            "0 0.10987296913899482 0.9679588607594937\n",
            "1 0.10616927255773917 0.9726068037974683\n",
            "0.4 0.6\n",
            "0 0.1370148770544678 0.9642009493670886\n",
            "1 0.11390638188868761 0.9676621835443038\n",
            "0.4 0.7\n",
            "0 0.1279700640693307 0.965684335443038\n",
            "1 0.12727716157063843 0.9648931962025317\n",
            "0.4 0.8\n",
            "0 0.12709024610742928 0.9645965189873418\n",
            "1 0.11362509560994805 0.969442246835443\n",
            "0.4 0.9\n",
            "0 0.1565808003079146 0.9567840189873418\n",
            "1 0.16366909954622388 0.9576740506329114\n",
            "0.5 0.0\n",
            "0 0.11490244829319418 0.9677610759493671\n",
            "1 0.10485177903529257 0.969442246835443\n",
            "0.5 0.1\n",
            "0 0.10865686457138508 0.9700356012658228\n",
            "1 0.10605004655136727 0.9703322784810127\n",
            "0.5 0.2\n",
            "0 0.10234110887050629 0.9707278481012658\n",
            "1 0.11160295746605843 0.9706289556962026\n",
            "0.5 0.3\n",
            "0 0.10941569313211366 0.9709256329113924\n",
            "1 0.10463866094239056 0.9707278481012658\n",
            "0.5 0.4\n",
            "0 0.11531584353912622 0.9695411392405063\n",
            "1 0.10886933372747153 0.9703322784810127\n",
            "0.5 0.5\n",
            "0 0.12324651898182928 0.9678599683544303\n",
            "1 0.11962020082129166 0.9691455696202531\n",
            "0.5 0.6\n",
            "0 0.10589607935778331 0.9705300632911392\n",
            "1 0.11080604134802706 0.9705300632911392\n",
            "0.5 0.7\n",
            "0 0.12489337472445332 0.9679588607594937\n",
            "1 0.12234699442279526 0.9686511075949367\n",
            "0.5 0.8\n",
            "0 0.12919992827028037 0.9651898734177216\n",
            "1 0.15545565596881789 0.9581685126582279\n",
            "0.5 0.9\n",
            "0 0.2169283072590828 0.9428401898734177\n",
            "1 0.20986214278787374 0.9420490506329114\n",
            "0.6 0.0\n",
            "0 0.12065319787710906 0.9662776898734177\n",
            "1 0.11690907094143331 0.9685522151898734\n",
            "0.6 0.1\n",
            "0 0.10886775563322007 0.9693433544303798\n",
            "1 0.1109960504842922 0.9692444620253164\n",
            "0.6 0.2\n",
            "0 0.10812090906258673 0.971123417721519\n",
            "1 0.1299099268297665 0.9644976265822784\n",
            "0.6 0.3\n",
            "0 0.10774974656235427 0.9732990506329114\n",
            "1 0.109175579745695 0.9710245253164557\n",
            "0.6 0.4\n",
            "0 0.12967835938688368 0.9639042721518988\n",
            "1 0.12200700463801623 0.96875\n",
            "0.6 0.5\n",
            "0 0.1196379111431539 0.9684533227848101\n",
            "1 0.12681130185239017 0.9662776898734177\n",
            "0.6 0.6\n",
            "0 0.11307888658381998 0.9712223101265823\n",
            "1 0.11486162941623479 0.9721123417721519\n",
            "0.6 0.7\n",
            "0 0.12463826639540493 0.9684533227848101\n",
            "1 0.1202967264120467 0.9697389240506329\n",
            "0.6 0.8\n",
            "0 0.18207455490157007 0.9553006329113924\n",
            "1 0.15961586581133305 0.9575751582278481\n",
            "0.6 0.9\n",
            "0 0.2331263549953699 0.9370055379746836\n",
            "1 0.3555778139934642 0.9196004746835443\n",
            "0.7 0.0\n",
            "0 0.12838277786765248 0.9630142405063291\n",
            "1 0.11857154126800597 0.9641020569620253\n",
            "0.7 0.1\n",
            "0 0.11722004994563759 0.9665743670886076\n",
            "1 0.11774743082895875 0.9657832278481012\n",
            "0.7 0.2\n",
            "0 0.11728704131096601 0.9676621835443038\n",
            "1 0.11426017383895815 0.9677610759493671\n",
            "0.7 0.3\n",
            "0 0.11367953536324203 0.9683544303797469\n",
            "1 0.11592016365341842 0.968057753164557\n",
            "0.7 0.4\n",
            "0 0.11763628113716841 0.9664754746835443\n",
            "1 0.11609601347595454 0.9667721518987342\n",
            "0.7 0.5\n",
            "0 0.11953599300570786 0.9677610759493671\n",
            "1 0.12701219744682313 0.9634098101265823\n",
            "0.7 0.6\n",
            "0 0.12506643275618554 0.966376582278481\n",
            "1 0.11592082122713328 0.9662776898734177\n",
            "0.7 0.7\n",
            "0 0.15440672205814626 0.9603441455696202\n",
            "1 0.14081323669441045 0.9597507911392406\n",
            "0.7 0.8\n",
            "0 0.13948908088728784 0.9593552215189873\n",
            "1 0.19045573742687702 0.9464992088607594\n",
            "0.7 0.9\n",
            "0 0.2720762509636581 0.9302808544303798\n",
            "1 0.2640857982933521 0.9305775316455697\n",
            "0.8 0.0\n",
            "0 0.14614345505908133 0.9598496835443038\n",
            "1 0.1311442175731063 0.9623219936708861\n",
            "0.8 0.1\n",
            "0 0.13875602120757102 0.9598496835443038\n",
            "1 0.13322172701619567 0.9627175632911392\n",
            "0.8 0.2\n",
            "0 0.12103391640931369 0.9671677215189873\n",
            "1 0.12757812152914702 0.9651898734177216\n",
            "0.8 0.3\n",
            "0 0.13006909120976926 0.9637064873417721\n",
            "1 0.1291356104362756 0.9636075949367089\n",
            "0.8 0.4\n",
            "0 0.12094522495009005 0.9653876582278481\n",
            "1 0.12024650327637791 0.9658821202531646\n",
            "0.8 0.5\n",
            "0 0.12572852872870863 0.9648931962025317\n",
            "1 0.11854034664519131 0.9665743670886076\n",
            "0.8 0.6\n",
            "0 0.12452222608029842 0.9661787974683544\n",
            "1 0.12961134017035364 0.9658821202531646\n",
            "0.8 0.7\n",
            "0 0.12943860225658863 0.9641020569620253\n",
            "1 0.1360952475104481 0.9606408227848101\n",
            "0.8 0.8\n",
            "0 0.15003418617844583 0.9608386075949367\n",
            "1 0.1521322960022837 0.9595530063291139\n",
            "0.8 0.9\n",
            "0 0.3283165837407112 0.9094145569620253\n",
            "1 0.3572272372722626 0.893690664556962\n",
            "0.9 0.0\n",
            "0 0.23423945236206054 0.9349287974683544\n",
            "1 0.21415408178567885 0.9350276898734177\n",
            "0.9 0.1\n",
            "0 0.1971885336071253 0.9427412974683544\n",
            "1 0.2110540614426136 0.9399723101265823\n",
            "0.9 0.2\n",
            "0 0.19980920732021332 0.9411590189873418\n",
            "1 0.20893248408436776 0.9401700949367089\n",
            "0.9 0.3\n",
            "0 0.19360853391885757 0.9433346518987342\n",
            "1 0.17934903336763383 0.9485759493670886\n",
            "0.9 0.4\n",
            "0 0.17535237710177898 0.9510482594936709\n",
            "1 0.262751783297956 0.9265229430379747\n",
            "0.9 0.5\n",
            "0 0.18892815390229226 0.9431368670886076\n",
            "1 0.1643377272516489 0.9517405063291139\n",
            "0.9 0.6\n",
            "0 0.1596179372623563 0.9550039556962026\n",
            "1 0.15983628551363946 0.955498417721519\n",
            "0.9 0.7\n",
            "0 0.17997167784571647 0.948378164556962\n",
            "1 0.16808373177945612 0.9519382911392406\n",
            "0.9 0.8\n",
            "0 0.18387740416526793 0.9471914556962026\n",
            "1 0.198883735665679 0.9449169303797469\n",
            "0.9 0.9\n",
            "0 0.4305316368103027 0.8915150316455697\n",
            "1 0.513553396654129 0.8509691455696202\n",
            "1.0 0.0\n",
            "0 0.20188690141141416 0.9430379746835443\n",
            "1 0.18997681085467338 0.9467958860759493\n",
            "1.0 0.1\n",
            "0 0.18076044195890426 0.947685917721519\n",
            "1 0.17901626200675963 0.9490704113924051\n",
            "1.0 0.2\n",
            "0 0.2164471524477005 0.9428401898734177\n",
            "1 0.17398800148963928 0.9493670886075949\n",
            "1.0 0.3\n",
            "0 0.17637476187944412 0.9482792721518988\n",
            "1 0.17718745999336244 0.9487737341772152\n",
            "1.0 0.4\n",
            "0 0.1699304197192192 0.9525316455696202\n",
            "1 0.16306727154254913 0.9521360759493671\n",
            "1.0 0.5\n",
            "0 0.1781700668990612 0.9470925632911392\n",
            "1 0.17355914738178252 0.9506526898734177\n",
            "1.0 0.6\n",
            "0 0.17900192398428916 0.9473892405063291\n",
            "1 0.1801849832892418 0.9448180379746836\n",
            "1.0 0.7\n",
            "0 0.1967512058854103 0.9419501582278481\n",
            "1 0.25477542139291764 0.9253362341772152\n",
            "1.0 0.8\n",
            "0 0.22830823081731796 0.9333465189873418\n",
            "1 0.2421811589717865 0.9311708860759493\n",
            "1.0 0.9\n",
            "0 3.5250786003112795 0.6431962025316456\n",
            "1 0.7367884540557861 0.7876780063291139\n"
          ],
          "name": "stdout"
        }
      ]
    },
    {
      "cell_type": "markdown",
      "metadata": {
        "id": "5rtgLEiyDVYv"
      },
      "source": [
        "### Graphical Illustration of Accuracy for Varying Values of Learning Rate and Momentum"
      ]
    },
    {
      "cell_type": "code",
      "metadata": {
        "id": "w9MnQ3BL9kAu"
      },
      "source": [
        "def Largest_Moment(mat, index):\n",
        "  best_Momentum_index = 0;\n",
        "  for x in range(10):\n",
        "    if(mat[index][x][4] > mat[index][best_Momentum_index][4]):\n",
        "      best_Momentum_index = x\n",
        "  return best_Momentum_index\n",
        "\n",
        "mat_lr = np.zeros(20)\n",
        "mat_moment = np.zeros(20)\n",
        "mat_acc = np.zeros(20)\n",
        "\n",
        "for i in range(20):\n",
        "  mat_lr[i] = a[i][0][1]\n",
        "  # Momentum index with greatest Accuracy of a given LR.\n",
        "  large = Largest_Moment(a, i)\n",
        "  mat_moment[i] = a[i][large][2]\n",
        "  mat_acc[i] = a[i][large][4]"
      ],
      "execution_count": 11,
      "outputs": []
    },
    {
      "cell_type": "markdown",
      "metadata": {
        "id": "1k6Tg4YjMgNw"
      },
      "source": [
        "The arrays of LR, Momentum, and Accuracy should be counted in groups of 2. First Value is epoch 1, second value is epoch 2. Then LR/Momentum will increment. For example, below we see that the 8th value in accuracy array is the largest. This corresponds to a learning rate of 0.5 and momentum 0.4 and epoch 1. Loss of valiation sets are also shown as 0.9500714. "
      ]
    },
    {
      "cell_type": "code",
      "metadata": {
        "id": "TGDJF_IWMBWk",
        "outputId": "a097e4d3-fea0-44c9-abe3-651949d66e25",
        "colab": {
          "base_uri": "https://localhost:8080/",
          "height": 118
        }
      },
      "source": [
        "print(mat_acc)\n",
        "print(mat_moment[10])\n",
        "print(a[10][3])"
      ],
      "execution_count": 15,
      "outputs": [
        {
          "output_type": "stream",
          "text": [
            "[0.95530063 0.94798259 0.96538766 0.96578323 0.97102453 0.96924446\n",
            " 0.97053006 0.9726068  0.97092563 0.97072785 0.97329905 0.97211234\n",
            " 0.96835443 0.96805775 0.96716772 0.96657437 0.95500396 0.95549842\n",
            " 0.95253165 0.95213608]\n",
            "0.3\n",
            "[0.         0.6        0.3        0.10774975 0.97329905]\n"
          ],
          "name": "stdout"
        }
      ]
    },
    {
      "cell_type": "code",
      "metadata": {
        "id": "FYtsstdMJF1u",
        "outputId": "d462f312-884f-4d7e-deca-dd8f4314ebe5",
        "colab": {
          "base_uri": "https://localhost:8080/",
          "height": 549
        }
      },
      "source": [
        "fig, ax = pyplot.subplots()\n",
        "ax.plot(mat_lr, mat_moment, 'ro')\n",
        "ax.axis([0, 1, 0, 1])\n",
        "ax.set(xlabel='Learning Rate', ylabel='Momentum Value with Largest Accuracy')\n",
        "ax.grid()\n",
        "pyplot.show()\n",
        "\n",
        "fig, ax = pyplot.subplots()\n",
        "ax.plot(mat_lr, mat_acc, 'ro')\n",
        "ax.axis([0, 1, 0, 1])\n",
        "ax.set(xlabel='Learning Rate', ylabel='Accuracy')\n",
        "ax.grid()\n",
        "pyplot.show()"
      ],
      "execution_count": 13,
      "outputs": [
        {
          "output_type": "display_data",
          "data": {
            "image/png": "[encoded data removed]",
            "text/plain": [
              "<Figure size 432x288 with 1 Axes>"
            ]
          },
          "metadata": {
            "tags": [],
            "needs_background": "light"
          }
        },
        {
          "output_type": "display_data",
          "data": {
            "image/png": "[encoded data removed]",
            "text/plain": [
              "<Figure size 432x288 with 1 Axes>"
            ]
          },
          "metadata": {
            "tags": [],
            "needs_background": "light"
          }
        }
      ]
    },
    {
      "cell_type": "markdown",
      "metadata": {
        "id": "R6-MGTB7Jr58"
      },
      "source": [
        "From the plot above. We got our best accuracy, 0.97329905 , with a learning rate of 0.6 and a momentum of 0.3. In the graphs above, every LR has two dots since there is 2 epochs."
      ]
    }
  ]
}