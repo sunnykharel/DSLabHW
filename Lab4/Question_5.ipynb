{
  "nbformat": 4,
  "nbformat_minor": 0,
  "metadata": {
    "colab": {
      "name": "Question 5",
      "provenance": [],
      "collapsed_sections": []
    },
    "kernelspec": {
      "name": "python3",
      "display_name": "Python 3"
    }
  },
  "cells": [
    {
      "cell_type": "markdown",
      "metadata": {
        "id": "QsLKM0_sDe9C"
      },
      "source": [
        "##Question 5:\n",
        "Assuming previous tutorial has been done. We will start with our base CNN from the \"What is torch.nn\" tutorial."
      ]
    },
    {
      "cell_type": "markdown",
      "metadata": {
        "id": "CEITjf-cD8dV"
      },
      "source": [
        "### Loading MNIST Dataset"
      ]
    },
    {
      "cell_type": "code",
      "metadata": {
        "id": "I5E4scKmD3J4",
        "outputId": "d24b688e-b87f-45d5-fdf3-5284f437d637",
        "colab": {
          "base_uri": "https://localhost:8080/",
          "height": 282
        }
      },
      "source": [
        "# Loading Dataset libraries\n",
        "from pathlib import Path\n",
        "import requests\n",
        "import pickle\n",
        "import gzip\n",
        "# Computional and Graphical libraries\n",
        "from matplotlib import pyplot\n",
        "import numpy as np\n",
        "import torch\n",
        "# Debugger Library\n",
        "from IPython.core.debugger import set_trace\n",
        "\n",
        "DATA_PATH = Path(\"data\")\n",
        "PATH = DATA_PATH / \"mnist\"\n",
        "\n",
        "PATH.mkdir(parents=True, exist_ok=True)\n",
        "\n",
        "URL = \"http://deeplearning.net/data/mnist/\"\n",
        "FILENAME = \"mnist.pkl.gz\"\n",
        "\n",
        "if not (PATH / FILENAME).exists():\n",
        "        content = requests.get(URL + FILENAME).content\n",
        "        (PATH / FILENAME).open(\"wb\").write(content)\n",
        "\n",
        "with gzip.open((PATH / FILENAME).as_posix(), \"rb\") as f:\n",
        "        ((x_train, y_train), (x_valid, y_valid), _) = pickle.load(f, encoding=\"latin-1\")\n",
        "  \n",
        "pyplot.imshow(x_train[0].reshape((28, 28)), cmap=\"gray\")\n",
        "print(x_train.shape)\n",
        "\n",
        "x_train, y_train, x_valid, y_valid = map(\n",
        "    torch.tensor, (x_train, y_train, x_valid, y_valid)\n",
        ")"
      ],
      "execution_count": 1,
      "outputs": [
        {
          "output_type": "stream",
          "text": [
            "(50000, 784)\n"
          ],
          "name": "stdout"
        },
        {
          "output_type": "display_data",
          "data": {
            "image/png": "[encoded data removed]",
            "text/plain": [
              "<Figure size 432x288 with 1 Axes>"
            ]
          },
          "metadata": {
            "tags": [],
            "needs_background": "light"
          }
        }
      ]
    },
    {
      "cell_type": "markdown",
      "metadata": {
        "id": "tMX9BjCDO-iJ"
      },
      "source": [
        "### Classes and Functions"
      ]
    },
    {
      "cell_type": "code",
      "metadata": {
        "id": "gZCog-fXHVDG"
      },
      "source": [
        "# Training and Validation Datasets/DataLoaders Libraries\n",
        "from torch.utils.data import TensorDataset\n",
        "from torch.utils.data import DataLoader\n",
        "# Optim and NN libraries\n",
        "from torch import optim\n",
        "from torch import nn\n",
        "import torch.nn.functional as F\n",
        "\n",
        "def get_data(train_ds, valid_ds, bs):\n",
        "    return (\n",
        "        DataLoader(train_ds, batch_size=bs, shuffle=True),\n",
        "        DataLoader(valid_ds, batch_size=bs * 2),\n",
        "    )\n",
        "\n",
        "loss_func = F.cross_entropy\n",
        "\n",
        "def loss_batch(model, loss_func, xb, yb, opt=None):\n",
        "    loss = loss_func(model(xb), yb)\n",
        "\n",
        "    if opt is not None:\n",
        "        loss.backward()\n",
        "        opt.step()\n",
        "        opt.zero_grad()\n",
        "\n",
        "    return loss.item(), len(xb)\n",
        "\n",
        "def fit(epochs, model, loss_func, opt, train_dl, valid_dl):\n",
        "    for epoch in range(epochs):\n",
        "        model.train()\n",
        "        for xb, yb in train_dl:\n",
        "            loss_batch(model, loss_func, xb, yb, opt)\n",
        "\n",
        "        model.eval()\n",
        "        with torch.no_grad():\n",
        "            losses, nums = zip(\n",
        "                *[loss_batch(model, loss_func, xb, yb) for xb, yb in valid_dl]\n",
        "            )\n",
        "        val_loss = np.sum(np.multiply(losses, nums)) / np.sum(nums)\n",
        "        val_acc = sum(accuracy(model(xb), yb) for xb, yb in valid_dl)    #valid_loss / len(valid_dl)\n",
        "\n",
        "        val_acc = val_acc.numpy()\n",
        "        print(epoch, val_loss, val_acc / len(valid_dl))\n",
        "\n",
        "# This is specific to MNIST Dataset. Input is 28x28 vector. Gave a lower loss then general 2D single channel image.\n",
        "class Lambda(nn.Module):\n",
        "    def __init__(self, func):\n",
        "        super().__init__()\n",
        "        self.func = func\n",
        "\n",
        "    def forward(self, x):\n",
        "        return self.func(x)\n",
        "\n",
        "\n",
        "def preprocess(x):\n",
        "    return x.view(-1, 1, 28, 28)\n",
        "\n",
        "# Accuracy check from Validation Test.\n",
        "def accuracy(out, yb):\n",
        "    preds = torch.argmax(out, dim=1)\n",
        "    return (preds == yb).float().mean()"
      ],
      "execution_count": 2,
      "outputs": []
    },
    {
      "cell_type": "markdown",
      "metadata": {
        "id": "i4eSN4xwSlH3"
      },
      "source": [
        "### Initial Variables"
      ]
    },
    {
      "cell_type": "code",
      "metadata": {
        "id": "7XzHWMwESqht"
      },
      "source": [
        "bs = 64  # batch size\n",
        "lr = 0.1  # learning rate\n",
        "epochs = 2  # how many epochs to train for\n",
        "a = np.zeros((20, 10), dtype=(float,5))"
      ],
      "execution_count": 3,
      "outputs": []
    },
    {
      "cell_type": "markdown",
      "metadata": {
        "id": "hmjbN1m4Hes_"
      },
      "source": [
        "### Training and Validation Datasets/DataLoaders \n"
      ]
    },
    {
      "cell_type": "code",
      "metadata": {
        "id": "CtFZG5JNPmZ1"
      },
      "source": [
        "train_ds = TensorDataset(x_train, y_train)\n",
        "valid_ds = TensorDataset(x_valid, y_valid)\n",
        "train_dl, valid_dl = get_data(train_ds, valid_ds, bs)"
      ],
      "execution_count": 4,
      "outputs": []
    },
    {
      "cell_type": "markdown",
      "metadata": {
        "id": "Fb_1kpsPQVeu"
      },
      "source": [
        "### Model and Optim (Use to do Foward Step)"
      ]
    },
    {
      "cell_type": "code",
      "metadata": {
        "id": "N_2xEVWOPfXY"
      },
      "source": [
        "model = nn.Sequential(\n",
        "    Lambda(preprocess),\n",
        "    nn.Conv2d(1, 16, kernel_size=3, stride=2, padding=1),\n",
        "    nn.ReLU(),\n",
        "    nn.Conv2d(16, 16, kernel_size=3, stride=2, padding=1),\n",
        "    nn.ReLU(),\n",
        "    nn.Conv2d(16, 10, kernel_size=3, stride=2, padding=1),\n",
        "    nn.ReLU(),\n",
        "    nn.AvgPool2d(4),\n",
        "    Lambda(lambda x: x.view(x.size(0), -1)),\n",
        ")\n",
        "opt = optim.SGD(model.parameters(), lr=lr, momentum=0.9)"
      ],
      "execution_count": 5,
      "outputs": []
    },
    {
      "cell_type": "markdown",
      "metadata": {
        "id": "8zlVNqLRQzrX"
      },
      "source": [
        "### Training of Model. Outputs Validation Loss.\n"
      ]
    },
    {
      "cell_type": "code",
      "metadata": {
        "id": "90d4ijwtQ7Qu",
        "outputId": "d4668a11-a02d-4e0a-e19a-74d061a0d393",
        "colab": {
          "base_uri": "https://localhost:8080/",
          "height": 50
        }
      },
      "source": [
        "fit(epochs, model, loss_func, opt, train_dl, valid_dl)"
      ],
      "execution_count": 6,
      "outputs": [
        {
          "output_type": "stream",
          "text": [
            "0 0.32844958235025407 0.903184335443038\n",
            "1 0.2222142488002777 0.9346321202531646\n"
          ],
          "name": "stdout"
        }
      ]
    },
    {
      "cell_type": "markdown",
      "metadata": {
        "id": "0VtIxe6hx_q_"
      },
      "source": [
        "### Testing different learning rate and momentum values.\n"
      ]
    },
    {
      "cell_type": "code",
      "metadata": {
        "id": "q55lEp7YyRmF",
        "outputId": "0ef497d9-47fc-4e52-9d8a-23bd88a04429",
        "colab": {
          "base_uri": "https://localhost:8080/",
          "height": 1000
        }
      },
      "source": [
        "def fit(epochs, model, loss_func, opt, train_dl, valid_dl, mat, lr, momentum):\n",
        "    for epoch in range(epochs):\n",
        "        model.train()\n",
        "        for xb, yb in train_dl:\n",
        "            loss_batch(model, loss_func, xb, yb, opt)\n",
        "\n",
        "        model.eval()\n",
        "        with torch.no_grad():\n",
        "            losses, nums = zip(\n",
        "                *[loss_batch(model, loss_func, xb, yb) for xb, yb in valid_dl]\n",
        "            )\n",
        "\n",
        "        val_loss = np.sum(np.multiply(losses, nums)) / np.sum(nums)\n",
        "        val_acc = sum(accuracy(model(xb), yb) for xb, yb in valid_dl)    #valid_loss / len(valid_dl)\n",
        "        val_acc = val_acc.numpy() / len(valid_dl)\n",
        "        mat_data = (epoch, lr, momentum, val_loss, val_acc)\n",
        "        mat[int(((lr*20)-2)+epoch)][int(momentum*10)] = mat_data\n",
        "        print(epoch, val_loss, val_acc)\n",
        "    return mat\n",
        "################################################################################\n",
        "model = nn.Sequential(\n",
        "    Lambda(preprocess),\n",
        "    nn.Conv2d(1, 16, kernel_size=3, stride=2, padding=1),\n",
        "    nn.ReLU(),\n",
        "    nn.Conv2d(16, 16, kernel_size=3, stride=2, padding=1),\n",
        "    nn.ReLU(),\n",
        "    nn.Conv2d(16, 10, kernel_size=3, stride=2, padding=1),\n",
        "    nn.ReLU(),\n",
        "    nn.AvgPool2d(4),\n",
        "    Lambda(lambda x: x.view(x.size(0), -1)),\n",
        ")\n",
        "for x in range(10):           # Varying for LR from 0.1 to 1.0  \n",
        "  lr = (x+1)/10\n",
        "  for y in range(10):         # Varying for Momentum 0.0 to 0.9\n",
        "    momentum = y/10\n",
        "    opt = optim.SGD(model.parameters(), lr=lr, momentum=momentum)\n",
        "    print(lr, momentum)\n",
        "    a = fit(epochs, model, loss_func, opt, train_dl, valid_dl, a, lr, momentum)\n"
      ],
      "execution_count": 16,
      "outputs": [
        {
          "output_type": "stream",
          "text": [
            "0.1 0.0\n",
            "0 1.3558262022018432 0.5522151898734177\n",
            "1 0.8818770881652832 0.7006526898734177\n",
            "0.1 0.1\n",
            "0 0.507491164112091 0.8535403481012658\n",
            "1 0.4231681248188019 0.8794501582278481\n",
            "0.1 0.2\n",
            "0 0.4765414839506149 0.8577927215189873\n",
            "1 0.3212484186410904 0.9073378164556962\n",
            "0.1 0.3\n",
            "0 0.32180574489831926 0.8998219936708861\n",
            "1 0.2865055351018906 0.9149525316455697\n",
            "0.1 0.4\n",
            "0 0.2334865667939186 0.9348299050632911\n",
            "1 0.22433320047855376 0.9340387658227848\n",
            "0.1 0.5\n",
            "0 0.325609538435936 0.9042721518987342\n",
            "1 0.23776539866924287 0.9268196202531646\n",
            "0.1 0.6\n",
            "0 0.19740060652196406 0.9406645569620253\n",
            "1 0.2151036279141903 0.9362143987341772\n",
            "0.1 0.7\n",
            "0 0.20004336276352405 0.942246835443038\n",
            "1 0.20228782544732093 0.9408623417721519\n",
            "0.1 0.8\n",
            "0 0.17519655836820602 0.9482792721518988\n",
            "1 0.17256289960294963 0.9496637658227848\n",
            "0.1 0.9\n",
            "0 0.20380617601275444 0.935126582278481\n",
            "1 0.15065279561281203 0.9550039556962026\n",
            "0.2 0.0\n",
            "0 0.14262626667022704 0.9608386075949367\n",
            "1 0.11378676705956459 0.9658821202531646\n",
            "0.2 0.1\n",
            "0 0.11666894634366036 0.9655854430379747\n",
            "1 0.11282083710730076 0.9664754746835443\n",
            "0.2 0.2\n",
            "0 0.1147856478869915 0.966376582278481\n",
            "1 0.10997723387479783 0.9674643987341772\n",
            "0.2 0.3\n",
            "0 0.12043592512607575 0.9657832278481012\n",
            "1 0.11194584164321422 0.9666732594936709\n",
            "0.2 0.4\n",
            "0 0.11614582560062409 0.9652887658227848\n",
            "1 0.1505134506314993 0.955498417721519\n",
            "0.2 0.5\n",
            "0 0.11961580140590668 0.9672666139240507\n",
            "1 0.11956305202245712 0.965684335443038\n",
            "0.2 0.6\n",
            "0 0.10823083936274051 0.9681566455696202\n",
            "1 0.14040930334329604 0.9597507911392406\n",
            "0.2 0.7\n",
            "0 0.1278979041159153 0.9629153481012658\n",
            "1 0.11407392633855343 0.9672666139240507\n",
            "0.2 0.8\n",
            "0 0.14799430397152902 0.9571795886075949\n",
            "1 0.11848335780203342 0.9659810126582279\n",
            "0.2 0.9\n",
            "0 0.12939949619472027 0.9622231012658228\n",
            "1 0.13573413135409354 0.964003164556962\n",
            "0.3 0.0\n",
            "0 0.10006030628979207 0.9699367088607594\n",
            "1 0.09154373431652785 0.9739912974683544\n",
            "0.3 0.1\n",
            "0 0.0945066893428564 0.974189082278481\n",
            "1 0.09917772351503372 0.9721123417721519\n",
            "0.3 0.2\n",
            "0 0.0931254169255495 0.9744857594936709\n",
            "1 0.09102429595887661 0.9745846518987342\n",
            "0.3 0.3\n",
            "0 0.18428781105279923 0.9473892405063291\n",
            "1 0.11177314583212138 0.967068829113924\n",
            "0.3 0.4\n",
            "0 0.09180274505726993 0.9732990506329114\n",
            "1 0.09179643409103155 0.9742879746835443\n",
            "0.3 0.5\n",
            "0 0.09807749391719699 0.9724090189873418\n",
            "1 0.09304641031324863 0.9744857594936709\n",
            "0.3 0.6\n",
            "0 0.10660730886310339 0.9698378164556962\n",
            "1 0.10294083197824656 0.9722112341772152\n",
            "0.3 0.7\n",
            "0 0.21402257984876633 0.9373022151898734\n",
            "1 0.10370233527868986 0.9709256329113924\n",
            "0.3 0.8\n",
            "0 0.11257954482138156 0.9691455696202531\n",
            "1 0.1353478933095932 0.9613330696202531\n",
            "0.3 0.9\n",
            "0 0.15317453415989876 0.9565862341772152\n",
            "1 0.17340967957675457 0.9486748417721519\n",
            "0.4 0.0\n",
            "0 0.14156013404726983 0.960245253164557\n",
            "1 0.09105618464350701 0.9746835443037974\n",
            "0.4 0.1\n",
            "0 0.09424170682951807 0.9742879746835443\n",
            "1 0.09326461362987756 0.9750791139240507\n",
            "0.4 0.2\n",
            "0 0.09082450689617544 0.9751780063291139\n",
            "1 0.09257108582518994 0.9754746835443038\n",
            "0.4 0.3\n",
            "0 0.09641581102963537 0.9737935126582279\n",
            "1 0.09317804353162647 0.9751780063291139\n",
            "0.4 0.4\n",
            "0 0.09709678393267095 0.9739912974683544\n",
            "1 0.09756097006220371 0.9754746835443038\n",
            "0.4 0.5\n",
            "0 0.1035334438636899 0.9713212025316456\n",
            "1 0.09971877614408732 0.9743868670886076\n",
            "0.4 0.6\n",
            "0 0.10634204992577434 0.9720134493670886\n",
            "1 0.10271488598845899 0.9742879746835443\n",
            "0.4 0.7\n",
            "0 0.14117679494321347 0.9628164556962026\n",
            "1 0.10283489251472056 0.9698378164556962\n",
            "0.4 0.8\n",
            "0 0.13188608057834209 0.9662776898734177\n",
            "1 0.1606811507191509 0.9601463607594937\n",
            "0.4 0.9\n",
            "0 0.18887332669198514 0.9510482594936709\n",
            "1 0.1551114939659834 0.9580696202531646\n",
            "0.5 0.0\n",
            "0 0.10444803060889245 0.9720134493670886\n",
            "1 0.09720433875471353 0.974189082278481\n",
            "0.5 0.1\n",
            "0 0.09430531410872936 0.9740901898734177\n",
            "1 0.09727860351242125 0.9729034810126582\n",
            "0.5 0.2\n",
            "0 0.0964976942062378 0.9745846518987342\n",
            "1 0.09795039839595557 0.974881329113924\n",
            "0.5 0.3\n",
            "0 0.09384099533408881 0.9739912974683544\n",
            "1 0.10308129654824734 0.973496835443038\n",
            "0.5 0.4\n",
            "0 0.09500714137107134 0.9760680379746836\n",
            "1 0.10112621031738818 0.974881329113924\n",
            "0.5 0.5\n",
            "0 0.11401659566313029 0.9703322784810127\n",
            "1 0.1033542487718165 0.9732001582278481\n",
            "0.5 0.6\n",
            "0 0.11174216966554522 0.9712223101265823\n",
            "1 0.11777583467066288 0.9693433544303798\n",
            "0.5 0.7\n",
            "0 0.11767529476583004 0.969442246835443\n",
            "1 0.12004100167900324 0.9686511075949367\n",
            "0.5 0.8\n",
            "0 0.14249918775856496 0.961629746835443\n",
            "1 0.17291475908756257 0.9534216772151899\n",
            "0.5 0.9\n",
            "0 0.18548613780736922 0.9477848101265823\n",
            "1 0.2092354319959879 0.9452136075949367\n",
            "0.6 0.0\n",
            "0 0.10642246292904019 0.9705300632911392\n",
            "1 0.10156532351896166 0.9728045886075949\n",
            "0.6 0.1\n",
            "0 0.1008234338670969 0.9712223101265823\n",
            "1 0.10083081419169902 0.9719145569620253\n",
            "0.6 0.2\n",
            "0 0.10294132359102369 0.9717167721518988\n",
            "1 0.09943292960487306 0.9735957278481012\n",
            "0.6 0.3\n",
            "0 0.1008645635932684 0.9720134493670886\n",
            "1 0.10135874770209194 0.9736946202531646\n",
            "0.6 0.4\n",
            "0 0.11100664654970169 0.9669699367088608\n",
            "1 0.10080661787688733 0.9735957278481012\n",
            "0.6 0.5\n",
            "0 0.10541323553584515 0.9735957278481012\n",
            "1 0.11381033531837165 0.9707278481012658\n",
            "0.6 0.6\n",
            "0 0.10645225392878055 0.9725079113924051\n",
            "1 0.1059981828942895 0.9715189873417721\n",
            "0.6 0.7\n",
            "0 0.10838101866841317 0.9703322784810127\n",
            "1 0.10659628263115883 0.971815664556962\n",
            "0.6 0.8\n",
            "0 0.1526953205384314 0.9593552215189873\n",
            "1 0.14291589144468309 0.9562895569620253\n",
            "0.6 0.9\n",
            "0 0.3288565555751324 0.9088212025316456\n",
            "1 0.21585312623977662 0.938192246835443\n",
            "0.7 0.0\n",
            "0 0.11735067487657071 0.966376582278481\n",
            "1 0.11777090787887573 0.9677610759493671\n",
            "0.7 0.1\n",
            "0 0.1088528175458312 0.9712223101265823\n",
            "1 0.10491086727678776 0.9727056962025317\n",
            "0.7 0.2\n",
            "0 0.10671177990585566 0.9719145569620253\n",
            "1 0.11054789071902632 0.9707278481012658\n",
            "0.7 0.3\n",
            "0 0.11100872326865792 0.9710245253164557\n",
            "1 0.10657808107286691 0.9719145569620253\n",
            "0.7 0.4\n",
            "0 0.10492132800519466 0.9722112341772152\n",
            "1 0.10430008117742837 0.973496835443038\n",
            "0.7 0.5\n",
            "0 0.10639137369692325 0.971815664556962\n",
            "1 0.10646257556304335 0.9726068037974683\n",
            "0.7 0.6\n",
            "0 0.12661431614756585 0.9621242088607594\n",
            "1 0.11973037233836949 0.9689477848101266\n",
            "0.7 0.7\n",
            "0 0.14835257951915265 0.957871835443038\n",
            "1 0.11972851440235972 0.9695411392405063\n",
            "0.7 0.8\n",
            "0 0.14991178602576255 0.958564082278481\n",
            "1 0.133282907012105 0.9648931962025317\n",
            "0.7 0.9\n",
            "0 0.46013506054878234 0.8715387658227848\n",
            "1 0.2590962275803089 0.9224683544303798\n",
            "0.8 0.0\n",
            "0 0.16066823460161686 0.9526305379746836\n",
            "1 0.1447379349440336 0.9570806962025317\n",
            "0.8 0.1\n",
            "0 0.13084574683904648 0.9600474683544303\n",
            "1 0.12992607276290655 0.9634098101265823\n",
            "0.8 0.2\n",
            "0 0.1313598060786724 0.9619264240506329\n",
            "1 0.16696364010870457 0.9529272151898734\n",
            "0.8 0.3\n",
            "0 0.19608686092197894 0.9464003164556962\n",
            "1 0.15848806992918252 0.956190664556962\n",
            "0.8 0.4\n",
            "0 0.20259164662361145 0.9471914556962026\n",
            "1 0.15372405680418014 0.954806170886076\n",
            "0.8 0.5\n",
            "0 0.14771150071620942 0.9579707278481012\n",
            "1 0.15097424504607915 0.9566851265822784\n",
            "0.8 0.6\n",
            "0 0.23938075420856475 0.935818829113924\n",
            "1 0.15920238967090844 0.9544106012658228\n",
            "0.8 0.7\n",
            "0 0.16976130564808845 0.9494659810126582\n",
            "1 0.1625918599292636 0.9522349683544303\n",
            "0.8 0.8\n",
            "0 0.29633866468667985 0.9117879746835443\n",
            "1 0.2633338034629822 0.9257318037974683\n",
            "0.8 0.9\n",
            "0 1.704014385032654 0.42167721518987344\n",
            "1 1.6607231861114502 0.4482792721518987\n",
            "0.9 0.0\n",
            "0 1.6186063335418701 0.46795886075949367\n",
            "1 1.6093615118026734 0.4639042721518987\n",
            "0.9 0.1\n",
            "0 1.5641193521499634 0.4911985759493671\n",
            "1 1.468985097503662 0.5083069620253164\n",
            "0.9 0.2\n",
            "0 1.4437558336257934 0.5157238924050633\n",
            "1 1.4411825038909911 0.512559335443038\n",
            "0.9 0.3\n",
            "0 1.4411187696456909 0.5216574367088608\n",
            "1 1.3432006395339966 0.5490506329113924\n",
            "0.9 0.4\n",
            "0 1.345744192123413 0.5473694620253164\n",
            "1 1.3573628057479858 0.5534018987341772\n",
            "0.9 0.5\n",
            "0 1.2857106672286986 0.5708069620253164\n",
            "1 1.2781818548202515 0.575059335443038\n",
            "0.9 0.6\n",
            "0 1.261348496246338 0.577432753164557\n",
            "1 1.2565855400085448 0.5865308544303798\n",
            "0.9 0.7\n",
            "0 1.2159356868743896 0.6132318037974683\n",
            "1 1.1487042139053345 0.6190664556962026\n",
            "0.9 0.8\n",
            "0 1.0435512189865113 0.6577333860759493\n",
            "1 1.0730277084350586 0.6614912974683544\n",
            "0.9 0.9\n",
            "0 1.234960631752014 0.6123417721518988\n",
            "1 1.179074691772461 0.6246044303797469\n",
            "1.0 0.0\n",
            "0 0.8961756907463073 0.7105419303797469\n",
            "1 0.8635112216949463 0.7198378164556962\n",
            "1.0 0.1\n",
            "0 1.2130308435440063 0.6071004746835443\n",
            "1 0.8418956979751587 0.7275514240506329\n",
            "1.0 0.2\n",
            "0 0.8327745497703553 0.7300237341772152\n",
            "1 0.8413625648498535 0.7305181962025317\n",
            "1.0 0.3\n",
            "0 0.8969934484481812 0.7143987341772152\n",
            "1 0.9155545302391053 0.7082674050632911\n",
            "1.0 0.4\n",
            "0 0.8430174870491027 0.7387262658227848\n",
            "1 2.3025827449798584 0.09642009493670886\n",
            "1.0 0.5\n",
            "0 2.3025827449798584 0.09642009493670886\n",
            "1 2.3025827449798584 0.09642009493670886\n",
            "1.0 0.6\n",
            "0 2.3025827449798584 0.09642009493670886\n",
            "1 2.3025827449798584 0.09642009493670886\n",
            "1.0 0.7\n",
            "0 2.3025827449798584 0.09642009493670886\n",
            "1 2.3025827449798584 0.09642009493670886\n",
            "1.0 0.8\n",
            "0 2.3025827449798584 0.09642009493670886\n",
            "1 2.3025827449798584 0.09642009493670886\n",
            "1.0 0.9\n",
            "0 2.3025827449798584 0.09642009493670886\n",
            "1 2.3025827449798584 0.09642009493670886\n"
          ],
          "name": "stdout"
        }
      ]
    },
    {
      "cell_type": "markdown",
      "metadata": {
        "id": "5rtgLEiyDVYv"
      },
      "source": [
        "### Graphical Illustration of Accuracy for Varying Values of Learning Rate and Momentum"
      ]
    },
    {
      "cell_type": "code",
      "metadata": {
        "id": "w9MnQ3BL9kAu"
      },
      "source": [
        "def Largest_Moment(mat, index):\n",
        "  best_Momentum_index = 0;\n",
        "  for x in range(10):\n",
        "    if(mat[index][x][4] > mat[index][best_Momentum_index][4]):\n",
        "      best_Momentum_index = x\n",
        "  return best_Momentum_index\n",
        "\n",
        "mat_lr = np.zeros(20)\n",
        "mat_moment = np.zeros(20)\n",
        "mat_acc = np.zeros(20)\n",
        "\n",
        "for i in range(20):\n",
        "  mat_lr[i] = a[i][0][1]\n",
        "  # Momentum index with greatest Accuracy of a given LR.\n",
        "  large = Largest_Moment(a, i)\n",
        "  mat_moment[i] = a[i][large][2]\n",
        "  mat_acc[i] = a[i][large][4]"
      ],
      "execution_count": 21,
      "outputs": []
    },
    {
      "cell_type": "markdown",
      "metadata": {
        "id": "1k6Tg4YjMgNw"
      },
      "source": [
        "The arrays of LR, Momentum, and Accuracy should be counted in groups of 2. First Value is epoch 1, second value is epoch 2. Then LR/Momentum will increment. For example, below we see that the 8th value in accuracy array is the largest. This corresponds to a learning rate of 0.5 and momentum 0.4 and epoch 1. Loss of valiation sets are also shown as 0.9500714. "
      ]
    },
    {
      "cell_type": "code",
      "metadata": {
        "id": "TGDJF_IWMBWk",
        "outputId": "6889cd8c-3a49-4082-fc3d-bc043584866e",
        "colab": {
          "base_uri": "https://localhost:8080/",
          "height": 118
        }
      },
      "source": [
        "print(mat_acc)\n",
        "print(mat_moment[8])\n",
        "print(a[8][4])"
      ],
      "execution_count": 28,
      "outputs": [
        {
          "output_type": "stream",
          "text": [
            "[0.94827927 0.95500396 0.96815665 0.9674644  0.97448576 0.97458465\n",
            " 0.97517801 0.97547468 0.97606804 0.97488133 0.97359573 0.97369462\n",
            " 0.97221123 0.97349684 0.96192642 0.96340981 0.65773339 0.6614913\n",
            " 0.73872627 0.7305182 ]\n",
            "0.4\n",
            "[0.         0.5        0.4        0.09500714 0.97606804]\n"
          ],
          "name": "stdout"
        }
      ]
    },
    {
      "cell_type": "code",
      "metadata": {
        "id": "FYtsstdMJF1u",
        "outputId": "2cbe62d3-2b8b-4735-cd13-f00c9908c2aa",
        "colab": {
          "base_uri": "https://localhost:8080/",
          "height": 549
        }
      },
      "source": [
        "fig, ax = pyplot.subplots()\n",
        "ax.plot(mat_lr, mat_moment, 'ro')\n",
        "ax.axis([0, 1, 0, 1])\n",
        "ax.set(xlabel='Learning Rate', ylabel='Momentum Value with Largest Accuracy')\n",
        "ax.grid()\n",
        "pyplot.show()\n",
        "\n",
        "fig, ax = pyplot.subplots()\n",
        "ax.plot(mat_lr, mat_acc, 'ro')\n",
        "ax.axis([0, 1, 0, 1])\n",
        "ax.set(xlabel='Learning Rate', ylabel='Accuracy')\n",
        "ax.grid()\n",
        "pyplot.show()"
      ],
      "execution_count": 41,
      "outputs": [
        {
          "output_type": "display_data",
          "data": {
            "image/png": "[encoded data removed]",
            "text/plain": [
              "<Figure size 432x288 with 1 Axes>"
            ]
          },
          "metadata": {
            "tags": [],
            "needs_background": "light"
          }
        },
        {
          "output_type": "display_data",
          "data": {
            "image/png": "[encoded data removed]",
            "text/plain": [
              "<Figure size 432x288 with 1 Axes>"
            ]
          },
          "metadata": {
            "tags": [],
            "needs_background": "light"
          }
        }
      ]
    },
    {
      "cell_type": "markdown",
      "metadata": {
        "id": "R6-MGTB7Jr58"
      },
      "source": [
        "From the plot above. We got our best accuracy, 0.97606804, with a learning rate of 0.5 and a momentum of 0.4. In the graphs above, every LR has two dots since there is 2 epochs."
      ]
    }
  ]
}